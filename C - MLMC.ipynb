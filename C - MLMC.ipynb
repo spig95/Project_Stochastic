{
 "cells": [
  {
   "cell_type": "code",
   "execution_count": 1,
   "metadata": {},
   "outputs": [],
   "source": [
    "from parameters import *\n",
    "from functions import *\n",
    "from PDE_solutions import *\n",
    "walks = 500\n",
    "N = 200"
   ]
  },
  {
   "cell_type": "code",
   "execution_count": 2,
   "metadata": {},
   "outputs": [
    {
     "data": {
      "text/plain": [
       "[-1.5, 1.0]"
      ]
     },
     "execution_count": 2,
     "metadata": {},
     "output_type": "execute_result"
    }
   ],
   "source": [
    "X0"
   ]
  },
  {
   "cell_type": "markdown",
   "metadata": {},
   "source": [
    "# MLMV\n",
    "\n"
   ]
  },
  {
   "cell_type": "markdown",
   "metadata": {},
   "source": [
    "# Check if there is some POSITIVE correlation (heuristic)"
   ]
  },
  {
   "cell_type": "code",
   "execution_count": 3,
   "metadata": {},
   "outputs": [
    {
     "name": "stdout",
     "output_type": "stream",
     "text": [
      "Calculating level 2\n",
      "Calculating level 1\n",
      "Calculating level 0\n",
      "The estimated probability at [[-1.1  1. ]\n",
      " [-1.3  1. ]\n",
      " [-1.5  1. ]] is: 0.688 (using MC)\n",
      "with the variance :  0.0017414150479844602\n",
      "Whithout the variance reduction  0.002297037637816964\n"
     ]
    }
   ],
   "source": [
    "L = 2\n",
    "N = 200\n",
    "X0 = np.array([[-1.1,1],\n",
    "   [-1.3,1],\n",
    "   [-1.5,1]])\n",
    "Walks = [2000,1000,200]\n",
    "Functions = MultilevelFunctionForLDifferentPositions\n",
    "E, VAR, Var, mean, VarFromTheLwalk = MultiLevelMonteCarlo(L,X0,Walks, Functions, N)"
   ]
  },
  {
   "cell_type": "code",
   "execution_count": 4,
   "metadata": {},
   "outputs": [
    {
     "data": {
      "text/plain": [
       "(array([ 0.724, -0.021, -0.015]),\n",
       " array([0.447, 0.242, 0.255]),\n",
       " 0.0017414150479844602,\n",
       " 0.688,\n",
       " 0.002297037637816964)"
      ]
     },
     "execution_count": 4,
     "metadata": {},
     "output_type": "execute_result"
    }
   ],
   "source": [
    "E, VAR, Var, mean, VarFromTheLwalk"
   ]
  },
  {
   "cell_type": "code",
   "execution_count": 5,
   "metadata": {
    "scrolled": true
   },
   "outputs": [
    {
     "name": "stdout",
     "output_type": "stream",
     "text": [
      "Calculating level 5\n",
      "Calculating level 4\n",
      "Calculating level 3\n",
      "Calculating level 2\n",
      "Calculating level 1\n",
      "Calculating level 0\n",
      "The estimated probability at [-1.5  1. ] is: 0.774516129032258 (using MC)\n",
      "with the variance :  0.010365910431051228\n",
      "Whithout the variance reduction  0.014348474934663525\n"
     ]
    }
   ],
   "source": [
    "L = 5\n",
    "X0 = np.array([-1.5,1])\n",
    "\n",
    "N0 = 400\n",
    "NL = 500\n",
    "N = createVectorN(N0,NL,L)\n",
    "#Walks = [5000, 4000, 3000, 2000, 1000, 200]\n",
    "#Walks = [N[len(N)-i-1] for i in range(len(N))]\n",
    "Walks = [ round(1000 * 2 **-i) for i in range(L+1)]\n",
    "#Walks = [500,400]\n",
    "Function = MultilevelFunctionForLDifferentTimesSteps\n",
    "E, VAR, Var, mean, VarFromTheLwalk = MultiLevelMonteCarlo(L,X0,Walks, Function, N)"
   ]
  },
  {
   "cell_type": "code",
   "execution_count": 6,
   "metadata": {},
   "outputs": [
    {
     "name": "stdout",
     "output_type": "stream",
     "text": [
      "Calculating level 6\n",
      "Calculating level 5\n",
      "Calculating level 4\n",
      "Calculating level 3\n",
      "Calculating level 2\n",
      "Calculating level 1\n",
      "Calculating level 0\n",
      "The estimated probability at [-1.5  1. ] is: 0.7722772277227723 (using MC)\n",
      "with the variance :  0.014374405100871948\n",
      "Whithout the variance reduction  0.004163331998932266\n"
     ]
    }
   ],
   "source": [
    "L = 6\n",
    "X0 = np.array([-1.5,1])\n",
    "\n",
    "N0 = 1000\n",
    "NL = 2000\n",
    "N = np.linspace(N0,NL,num=L+1,dtype=int)\n",
    "#Walks = [5000, 4000, 3000, 2000, 1000, 200]\n",
    "Walks = [ round(100 + 2 **-i) for i in range(L+1)]\n",
    "#Walks = [500,400]\n",
    "Function = MultilevelFunctionForLDifferentTimesSteps\n",
    "E, VAR, Var, mean, VarFromTheLwalk = MultiLevelMonteCarlo(L,X0,Walks, Function, N)"
   ]
  },
  {
   "cell_type": "code",
   "execution_count": 7,
   "metadata": {},
   "outputs": [
    {
     "data": {
      "text/plain": [
       "array([0.004, 0.002, 0.002, 0.001, 0.001, 0.001, 0.002])"
      ]
     },
     "execution_count": 7,
     "metadata": {},
     "output_type": "execute_result"
    }
   ],
   "source": [
    "VAR/np.array(Walks[:-1])"
   ]
  },
  {
   "cell_type": "code",
   "execution_count": 8,
   "metadata": {},
   "outputs": [],
   "source": [
    "def createInvertedVectorN(N0, NL, L):\n",
    "    \"\"\"\n",
    "    N0 : number of iteration for the level 0\n",
    "    NL : number of iteration for the level L, level of interest\n",
    "    L : number of Levels\n",
    "    output : N vector of size L+1 with the Nl invertly distributed\n",
    "    \"\"\"\n",
    "    #dtl = dt0 * M**(1-l) and N = T / dt\n",
    "    #N0/Nl = M**(1-l)\n",
    "    M = (N0/NL) ** (1/(1-L))\n",
    "    #Nl = N0/(M**(1-l))\n",
    "    return np.array([ round(N0 / (M**(1-l))) for l in range(L+1)],dtype=int)  "
   ]
  },
  {
   "cell_type": "code",
   "execution_count": 9,
   "metadata": {},
   "outputs": [
    {
     "data": {
      "text/plain": [
       "array([ 871, 1000, 1149, 1320, 1516, 1741, 2000])"
      ]
     },
     "execution_count": 9,
     "metadata": {},
     "output_type": "execute_result"
    }
   ],
   "source": [
    "createInvertedVectorN(N0,NL,L)"
   ]
  },
  {
   "cell_type": "code",
   "execution_count": 10,
   "metadata": {},
   "outputs": [
    {
     "data": {
      "text/plain": [
       "array([1000, 1122, 1260, 1414, 1587, 1782, 2000])"
      ]
     },
     "execution_count": 10,
     "metadata": {},
     "output_type": "execute_result"
    }
   ],
   "source": [
    "createVectorN(N0,NL,L)"
   ]
  },
  {
   "cell_type": "code",
   "execution_count": 11,
   "metadata": {},
   "outputs": [],
   "source": [
    "#creates different walks with different"
   ]
  },
  {
   "cell_type": "code",
   "execution_count": 12,
   "metadata": {},
   "outputs": [
    {
     "data": {
      "text/plain": [
       "2"
      ]
     },
     "execution_count": 12,
     "metadata": {},
     "output_type": "execute_result"
    }
   ],
   "source": [
    "t0 = 0.1\n",
    "tf = 0.01\n",
    "L = 3\n",
    "M = int( (t0/tf)**(1/L) )\n",
    "M"
   ]
  }
 ],
 "metadata": {
  "kernelspec": {
   "display_name": "Python 3",
   "language": "python",
   "name": "python3"
  },
  "language_info": {
   "codemirror_mode": {
    "name": "ipython",
    "version": 3
   },
   "file_extension": ".py",
   "mimetype": "text/x-python",
   "name": "python",
   "nbconvert_exporter": "python",
   "pygments_lexer": "ipython3",
   "version": "3.6.5"
  }
 },
 "nbformat": 4,
 "nbformat_minor": 2
}
