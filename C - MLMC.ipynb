{
 "cells": [
  {
   "cell_type": "code",
   "execution_count": 1,
   "metadata": {},
   "outputs": [],
   "source": [
    "from parameters import *\n",
    "from functions import *\n",
    "from PDE_solutions import *\n",
    "walks = 500\n",
    "N = 200"
   ]
  },
  {
   "cell_type": "code",
   "execution_count": 2,
   "metadata": {},
   "outputs": [
    {
     "data": {
      "text/plain": [
       "[-1.5, 1.0]"
      ]
     },
     "execution_count": 2,
     "metadata": {},
     "output_type": "execute_result"
    }
   ],
   "source": [
    "X0"
   ]
  },
  {
   "cell_type": "markdown",
   "metadata": {},
   "source": [
    "# MLMV\n",
    "\n"
   ]
  },
  {
   "cell_type": "code",
   "execution_count": 3,
   "metadata": {},
   "outputs": [],
   "source": [
    "def CI(mean, std, N, confidence):\n",
    "    ''' Compute the confidence interval at the desired confidence level \n",
    "    '''\n",
    "    alfa = 1 - confidence\n",
    "    C_alfa2 = st.t.ppf(1-alfa/2,N-1)\n",
    "    lowerB = mean - C_alfa2*std/np.sqrt(N)\n",
    "    upperB = mean + C_alfa2*std/np.sqrt(N)\n",
    "    return lowerB, upperB\n"
   ]
  },
  {
   "cell_type": "code",
   "execution_count": 4,
   "metadata": {},
   "outputs": [],
   "source": [
    "def OneLevelRandomWalk(X0, Y0, N, T):\n",
    "    ''' X0: initial position\n",
    "        N: number of steps\n",
    "        T: Final time'''\n",
    "    X = []\n",
    "    Y = []\n",
    "    dt = T/N\n",
    "    sigmaSqrtDt = sigma * np.sqrt(dt)\n",
    "    X.append(X0)\n",
    "    Y.append(Y0)\n",
    "    finalT = dt\n",
    "    XisIn = False\n",
    "    YisIn = False\n",
    "    for i in range(N-1):\n",
    "        Norm = norm.rvs(size=2)\n",
    "        X0 = X0 + u(X0) * dt + sigmaSqrtDt* Norm\n",
    "        Y0 = Y0 + u(Y0) * dt + sigmaSqrtDt* Norm \n",
    "        if (not XisIn) : X.append(X0)\n",
    "        if (not YisIn) : Y.append(Y0)\n",
    "        finalT = finalT + dt\n",
    "        rX = np.sqrt( X0[0]**2 + X0[1]**2 )\n",
    "        rY = np.sqrt( Y0[0]**2 + Y0[1]**2 ) \n",
    "        if (rX < R) : XisIn = True\n",
    "        if (rY < R) : YisIn = True\n",
    "        if(XisIn and YisIn):\n",
    "            break\n",
    "    \n",
    "    return np.asarray(X), np.asarray(Y), XisIn, YisIn"
   ]
  },
  {
   "cell_type": "code",
   "execution_count": 5,
   "metadata": {},
   "outputs": [],
   "source": [
    "def OneLevelMonteCarlo(X0, X1, walks0, walks1, N, T = 1, confidence = 0.95, seed = 1, tol = 1e-6,\n",
    "                    PDEProb = -1, verbose = 2):\n",
    "    polluted0 = np.zeros(walks0)\n",
    "    polluted1 = np.zeros(walks1)\n",
    "\n",
    "    start = time.time()\n",
    "    for w in range(walks0):\n",
    "        if (verbose == 2 and w%100 == 0):\n",
    "            print('Current walk: ', w )\n",
    "        #_, currentTime = NaiveRandomWalk(X0, N, T)\n",
    "        #_, currentTime2 = NaiveRandomWalk(X1, N, T)\n",
    "        _,_,isIn0,isIn1 = OneLevelRandomWalk(X0,X1,N,T)\n",
    "        if isIn0:\n",
    "            polluted0[w] = 1\n",
    "        if isIn1:\n",
    "            polluted1[w] = 1\n",
    "    for w in range(walks0,walks1):\n",
    "        _,_,isIn0,isIn1 = OneLevelRandomWalk(X0,X1,N,T)\n",
    "        if isIn1:\n",
    "            polluted1[w] = 1\n",
    "    end = time.time()\n",
    "\n",
    "    mean0 = polluted0.mean()\n",
    "    mean1 = polluted1.mean()\n",
    "    mean = mean1 + np.mean(polluted0-polluted1[range(walks0)])\n",
    "\n",
    "    Var_1 = np.std(polluted1)**2 / walks1 \n",
    "    Var_0 = np.std(polluted0)**2 / walks0\n",
    "    Var_mix = np.std(polluted0-polluted1[range(walks0)])**2/walks0\n",
    "    Var = Var_1 + Var_mix\n",
    "    if verbose >=1:\n",
    "        print(f'\\nNumber of simulations: %d. Time needed = %.2f s' % (walks, end-start))\n",
    "        print(f'Estimated variance: {Var}' % (Var))\n",
    "        print(f'The estimated probability at {X0} is: {mean} (using MC)')\n",
    "        if PDEProb != -1:\n",
    "            print(f'\\nPDE result at {X0} is:  {PDEProb}')\n",
    "    return mean,Var, Var_0, Var_1, Var_mix, walks0, walks1"
   ]
  },
  {
   "cell_type": "code",
   "execution_count": 6,
   "metadata": {},
   "outputs": [],
   "source": [
    "def MultilevelFunctionForLDifferentTimesSteps(X_0,N,T,L):\n",
    "    ''' X_0: initial position\n",
    "    N: vector of the number of steps\n",
    "    T: Final time\n",
    "    L : Level to which we are interested walks on L elements of X'''\n",
    "    dt = T/N\n",
    "    #print(\"dt :\", dt)\n",
    "    sigmaSqrtDt = sigma * np.sqrt(dt)\n",
    "    #print(\"sigmasqrtdt :\", sigmaSqrtDt)\n",
    "    finalT = dt\n",
    "    areIn = np.full(len(N), False)\n",
    "    #print(\"are In . \", areIn)\n",
    "    X = np.outer(X_0,np.ones(L+1)).T\n",
    "    #print(\"X\", X)\n",
    "\n",
    "    for i in range(N[L]-1):\n",
    "        Norm = norm.rvs(size=2)\n",
    "        \n",
    "        for l in range(L+1):\n",
    "            if ((not areIn[l]) and (finalT[l] < T)) :\n",
    "                X[l] = X[l] + u(X[l]) * dt[l] + sigmaSqrtDt[l]* Norm\n",
    "                r = np.sqrt( X[l,0]**2 + X[l,1]**2 ) \n",
    "                if (r < R) : areIn[l] = True\n",
    "            \n",
    "        finalT = finalT + dt\n",
    "        if(areIn.sum() == L+1):\n",
    "            break\n",
    "    \n",
    "    return areIn"
   ]
  },
  {
   "cell_type": "code",
   "execution_count": 7,
   "metadata": {},
   "outputs": [],
   "source": [
    "def MultilevelFunctionForLDifferentPositions(X_0,N,T,L):\n",
    "    ''' X: initial positions\n",
    "    N: number of steps\n",
    "    T: Final time\n",
    "    L : Level to which we are interested walks on L elements of X'''\n",
    "    dt = T/N\n",
    "    sigmaSqrtDt = sigma * np.sqrt(dt)\n",
    "    finalT = dt\n",
    "    areIn = np.full(np.shape(X_0)[0], False)\n",
    "    X = np.array(X_0)\n",
    "\n",
    "    for i in range(N-1):\n",
    "        Norm = norm.rvs(size=2)\n",
    "        \n",
    "        for l in range(L+1):\n",
    "            if (not areIn[l]) :\n",
    "                X[l] = X[l] + u(X[l]) * dt + sigmaSqrtDt* Norm\n",
    "                r = np.sqrt( X[l,0]**2 + X[l,1]**2 ) \n",
    "                if (r < R) : areIn[l] = True\n",
    "            \n",
    "        finalT = finalT + dt\n",
    "        if(areIn.sum() == L+1):\n",
    "            break\n",
    "    \n",
    "    return areIn"
   ]
  },
  {
   "cell_type": "code",
   "execution_count": 8,
   "metadata": {},
   "outputs": [],
   "source": [
    "def MultiLevelMonteCarlo(L, X0, Walks, Functions, N, T = 1, confidence = 0.95, seed = 1, tol = 1e-6,\n",
    "                    PDEProb = -1, verbose = 2):\n",
    "    \"\"\"\n",
    "    Input:\n",
    "        L is the number of levels, where L will be the level we want to estimate with 0 being the level with smallest variance\n",
    "        Walks is a vector of size L+1, where Walks[l] is the number of walks for the level l\n",
    "        X0 is a L+1 by 2 matrix storing the starting points, X[l,:] being the starting point of the l-th level\n",
    "        Functions : the f to apply for the l-th walk returns a l size vector\n",
    "    \"\"\"\n",
    "    \n",
    "    #E stores the expectation of each level E[l] = E[Pl-P(l-1)] and E[0] = E[P0]\n",
    "    E = np.zeros(L+1)\n",
    "    VAR = np.zeros(L+1)\n",
    "    \n",
    "    #stores the polluted values, L lines\n",
    "    polluted = np.empty((L+1,Walks[0]))\n",
    "    Walks.append(0)\n",
    "    for l in range(L,0,-1):\n",
    "        if(verbose == 2) : print('Calculating level', l)\n",
    "\n",
    "        for w in range(Walks[l+1],Walks[l]):\n",
    "            areInR = Functions(X0, N, T,l)\n",
    "            polluted[:,w] = areInR \n",
    "        \n",
    "        E[l] = np.mean(polluted[l,0:Walks[l]] - polluted[l-1,0:Walks[l]])\n",
    "        VAR[l] = np.std(polluted[l,0:Walks[l]] - polluted[l-1,0:Walks[l]])**2 / Walks[l]\n",
    "    \n",
    "    #runs the P0 walk\n",
    "    if(verbose == 2) : print('Calculating level 0')\n",
    "    for w in range(Walks[1],Walks[0]):\n",
    "        areInR = Functions(X0, N, T,0)\n",
    "        polluted[:,w] = areInR \n",
    "        \n",
    "    E[0] = np.mean(polluted[0,:])\n",
    "    VAR[0] = np.std(polluted[0,:])**2 / Walks[0]\n",
    "    Var = np.sum(VAR)\n",
    "    mean = np.sum(E)\n",
    "    Var0 = np.std(polluted[L,0:Walks[L]])**2 / Walks[L]\n",
    "    \n",
    "    if verbose >=1:\n",
    "        #print(f'\\nNumber of simulations: %d. Time needed = %.2f s' % (walks, end-start))\n",
    "        print(f'The estimated probability at {X0} is: {mean} (using MC)')\n",
    "        print('with the variance : ', Var)\n",
    "        print('Whithout the variance reduction ', Var0)\n",
    "        #if PDEProb != -1:\n",
    "            #print(f'\\nPDE result at {X0} is:  {PDEProb}')\n",
    "            \n",
    "    return E, VAR, Var, mean, Var0"
   ]
  },
  {
   "cell_type": "markdown",
   "metadata": {},
   "source": [
    "# Check if there is some POSITIVE correlation (heuristic)"
   ]
  },
  {
   "cell_type": "code",
   "execution_count": null,
   "metadata": {},
   "outputs": [
    {
     "name": "stdout",
     "output_type": "stream",
     "text": [
      "(0.6333333333333333, 0.007740740740740739, 0.024, 0.007740740740740739, 0.0, 10, 30)\n",
      "(0.5866666666666667, 0.001982814814814814, 0.004872, 0.0015908148148148142, 0.00039199999999999993, 50, 150)\n",
      "(0.6866666666666666, 0.0010034074074074073, 0.0022440000000000003, 0.0007044074074074074, 0.000299, 100, 300)\n"
     ]
    }
   ],
   "source": [
    "for walks in [10,50,100,500,1000]:\n",
    "    X0 = [-1.5,1]\n",
    "    X1 = [-1.4,1]\n",
    "    print(OneLevelMonteCarlo(X0,X1, walks, walks*3, N, verbose=0))"
   ]
  },
  {
   "cell_type": "code",
   "execution_count": 40,
   "metadata": {},
   "outputs": [
    {
     "name": "stdout",
     "output_type": "stream",
     "text": [
      "Calculating level 2\n",
      "Calculating level 1\n",
      "Calculating level 0\n",
      "The estimated probability at [-1.5  1. ] is: 0.6715 (using MC)\n",
      "with the variance :  0.0004045908749999999\n",
      "Whithout the variance reduction  0.0010398749999999998\n"
     ]
    }
   ],
   "source": [
    "L = 2\n",
    "N = 200\n",
    "X0 = np.array([[-1.1,1],\n",
    "   [-1.3,1],\n",
    "   [-1.5,1]])\n",
    "Walks = [2000,1000,200]\n",
    "Functions = MultilevelFunctionForLDifferentPositions\n",
    "E, VAR, Var, mean, VarFromTheLwalk = MultiLevelMonteCarlo(L,X0,Walks, Functions, N)"
   ]
  },
  {
   "cell_type": "code",
   "execution_count": 52,
   "metadata": {},
   "outputs": [
    {
     "data": {
      "text/plain": [
       "(array([ 0.715, -0.019, -0.02 ]),\n",
       " array([6.788e-05, 5.464e-05, 3.480e-04]),\n",
       " 0.000470516185185185,\n",
       " 0.6763333333333333,\n",
       " 0.0009855)"
      ]
     },
     "execution_count": 52,
     "metadata": {},
     "output_type": "execute_result"
    }
   ],
   "source": [
    "E, VAR, Var, mean, VarFromTheLwalk"
   ]
  },
  {
   "cell_type": "code",
   "execution_count": 22,
   "metadata": {},
   "outputs": [
    {
     "name": "stdout",
     "output_type": "stream",
     "text": [
      "Current walk:  0\n",
      "Current walk:  100\n",
      "Current walk:  200\n",
      "Current walk:  300\n",
      "Current walk:  400\n",
      "Current walk:  500\n",
      "Current walk:  600\n",
      "Current walk:  700\n",
      "Current walk:  800\n",
      "Current walk:  900\n",
      "\n",
      "Number of simulations: 1000. Time needed = 4.60 s\n",
      "Estimated variance: 0.4606378047741926\n",
      "The estimated probability at [-1.5  1. ] is: 0.695 (using MC)\n",
      "Confidence interval: [ 0.695 +- 0.028584734169919912 ]\twith P = 0.95%\n"
     ]
    },
    {
     "data": {
      "text/plain": [
       "(0.695, 0.4606378047741926, 0.66641526583008, 0.7235847341699199)"
      ]
     },
     "execution_count": 22,
     "metadata": {},
     "output_type": "execute_result"
    }
   ],
   "source": [
    "BasicMonteCarlo(X0,1000,200)"
   ]
  },
  {
   "cell_type": "code",
   "execution_count": 16,
   "metadata": {},
   "outputs": [
    {
     "name": "stdout",
     "output_type": "stream",
     "text": [
      "Calculating level 5\n",
      "Calculating level 4\n",
      "Calculating level 3\n",
      "Calculating level 2\n",
      "Calculating level 1\n",
      "Calculating level 0\n",
      "The estimated probability at [-1.5  1. ] is: 0.6951766666666667 (using MC)\n",
      "with the variance :  0.00011236324652596297\n",
      "Whithout the variance reduction  0.00021039900000000003\n"
     ]
    }
   ],
   "source": [
    "L = 5\n",
    "X0 = np.array([-1.5,1])\n",
    "\n",
    "N0 = 50\n",
    "NL = 200\n",
    "N = createVectorN(N0,NL,L)\n",
    "Walks = [50000, 40000, 30000, 20000, 10000, 1000]\n",
    "Function = MultilevelFunctionForLDifferentTimesSteps\n",
    "E, VAR, Var, mean, VarFromTheLwalk = MultiLevelMonteCarlo(L,X0,Walks, Function, N)"
   ]
  },
  {
   "cell_type": "code",
   "execution_count": null,
   "metadata": {},
   "outputs": [],
   "source": [
    "### X = np.outer(X_0,np.ones(L+1)).T\n",
    "X"
   ]
  },
  {
   "cell_type": "code",
   "execution_count": null,
   "metadata": {},
   "outputs": [],
   "source": [
    "t0 = 0.1\n",
    "tf = 0.01\n",
    "L = 3\n",
    "M = int( (t0/tf)**(1/L) )\n",
    "M"
   ]
  }
 ],
 "metadata": {
  "kernelspec": {
   "display_name": "Python 3",
   "language": "python",
   "name": "python3"
  },
  "language_info": {
   "codemirror_mode": {
    "name": "ipython",
    "version": 3
   },
   "file_extension": ".py",
   "mimetype": "text/x-python",
   "name": "python",
   "nbconvert_exporter": "python",
   "pygments_lexer": "ipython3",
   "version": "3.6.5"
  }
 },
 "nbformat": 4,
 "nbformat_minor": 2
}
