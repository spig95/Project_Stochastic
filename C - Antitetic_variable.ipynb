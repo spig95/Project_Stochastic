{
 "cells": [
  {
   "cell_type": "code",
   "execution_count": 1,
   "metadata": {},
   "outputs": [],
   "source": [
    "from parameters import *\n",
    "from functions import *\n",
    "from PDE_solutions import *\n",
    "walks = 5000\n",
    "N = 200"
   ]
  },
  {
   "cell_type": "markdown",
   "metadata": {},
   "source": [
    "# Antithetic variable"
   ]
  },
  {
   "cell_type": "code",
   "execution_count": 2,
   "metadata": {},
   "outputs": [],
   "source": [
    "def AntVar(X0, N, T):\n",
    "    ''' X0: initial position\n",
    "        N: number of steps\n",
    "        T: Final time\n",
    "        Generate 2 different chains, in one we update using +Z, in the other one -Z. Where Z is the standard normal'''\n",
    "    X_A = [X0]\n",
    "    X_B = [X0]\n",
    "    r_A = R + 1000\n",
    "    r_B = R + 1000\n",
    "    \n",
    "    dt = T/N\n",
    "    finalT_A = 0\n",
    "    finalT_B = 0\n",
    "    \n",
    "    for i in range(N-1):\n",
    "        Z = norm.rvs(size=2)\n",
    "        \n",
    "        #update A\n",
    "        if(r_A > R):\n",
    "            X_temp = X_A[-1] + u(X_A[-1]) * dt + sigma * np.sqrt(dt) * Z \n",
    "            X_A.append(X_temp)\n",
    "            finalT_A = finalT_A + dt\n",
    "            r_A = np.sqrt( X_temp[0]**2 + X_temp[1]**2 )\n",
    "        \n",
    "        #update B\n",
    "        if(r_B > R):\n",
    "            X_temp = X_B[-1] + u(X_B[-1]) * dt - sigma * np.sqrt(dt) * Z #minus!!\n",
    "            X_B.append(X_temp)\n",
    "            finalT_B = finalT_B + dt\n",
    "            r_B = np.sqrt( X_temp[0]**2 + X_temp[1]**2 )\n",
    "            \n",
    "        \n",
    "\n",
    "    \n",
    "    return np.asarray(X_A), finalT_A, np.asarray(X_B), finalT_B "
   ]
  },
  {
   "cell_type": "markdown",
   "metadata": {},
   "source": [
    "# Check if there is some NEGATIVE correlation(heuristic)"
   ]
  },
  {
   "cell_type": "code",
   "execution_count": 5,
   "metadata": {},
   "outputs": [
    {
     "name": "stdout",
     "output_type": "stream",
     "text": [
      "0.9950000000000008\n",
      "0.9950000000000008\n"
     ]
    },
    {
     "data": {
      "image/png": "[encoded data removed]",
      "text/plain": [
       "<Figure size 288x288 with 1 Axes>"
      ]
     },
     "metadata": {},
     "output_type": "display_data"
    }
   ],
   "source": [
    "X_A, finalTimeA, X_B, finalTimeB = AntVar(X0, N, T)\n",
    "\n",
    "#plots the walk\n",
    "plt.figure(figsize=[4,4])\n",
    "X_A = X_A.T\n",
    "plt.plot(X_A[0,:],X_A[1,:], '.-')\n",
    "X_B = X_B.T\n",
    "plt.plot(X_B[0,:],X_B[1,:], '.-')\n",
    "plt.xlim([-3,3])\n",
    "plt.ylim([-3,3])\n",
    "\n",
    "#plots the well\n",
    "theta = np.linspace(0,2*np.pi,100)\n",
    "plt.plot(R*np.cos(theta),R*np.sin(theta))\n",
    "print(finalTimeA)\n",
    "print(finalTimeB)"
   ]
  },
  {
   "cell_type": "code",
   "execution_count": 4,
   "metadata": {},
   "outputs": [
    {
     "name": "stdout",
     "output_type": "stream",
     "text": [
      "Current walk:  0\n",
      "Current walk:  2000\n",
      "Current walk:  4000\n",
      "\n",
      "\n",
      "\n",
      "Number of simulations: 5000. Time needed = 53.344295024871826\n",
      "Estimated variance: 0.2901809797354059\n",
      "The estimated probability at [-1.5, 2.0] is: 0.0928 (using MC), 0.0980219 (using the PDE)\n",
      "Confidence interval: [ 0.0928 +- 0.008045206499714116 ]\twith P = 0.95%\n"
     ]
    }
   ],
   "source": [
    "polluted = np.zeros(walks)\n",
    "np.random.seed(SEED) #scipy is based on the numpy seed\n",
    "\n",
    "start = time.time()\n",
    "for w in range(int(walks/2)):\n",
    "    if (w%1000 == 0):\n",
    "        print('Current walk: ', w*2 )\n",
    "    _, finalTimeA, _, finalTimeB = AntVar(X0, N, T)\n",
    "    if finalTimeA < T - 1e-2:\n",
    "            polluted[2*w] = 1\n",
    "    if finalTimeB < T - 1e-2:\n",
    "            polluted[2*w+1] = 1\n",
    "end = time.time()\n",
    "\n",
    "confidence = 0.95\n",
    "mean = polluted.mean()\n",
    "std = np.std(polluted, ddof = 1)\n",
    "LB, UB = CI(mean, std, walks, confidence)\n",
    "\n",
    "print(f'\\n\\n\\nNumber of simulations: {walks}. Time needed = {end - start}')\n",
    "print(f'Estimated variance: {std}')\n",
    "print(f'The estimated probability at {X0} is: {mean} (using MC), {PDEProb} (using the PDE)')\n",
    "print(f'Confidence interval: [ {mean} +- {UB-mean} ]\\twith P = {confidence}%')\n"
   ]
  }
 ],
 "metadata": {
  "kernelspec": {
   "display_name": "Python 3",
   "language": "python",
   "name": "python3"
  },
  "language_info": {
   "codemirror_mode": {
    "name": "ipython",
    "version": 3
   },
   "file_extension": ".py",
   "mimetype": "text/x-python",
   "name": "python",
   "nbconvert_exporter": "python",
   "pygments_lexer": "ipython3",
   "version": "3.6.5"
  }
 },
 "nbformat": 4,
 "nbformat_minor": 2
}
