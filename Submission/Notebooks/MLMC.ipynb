{
 "cells": [
  {
   "cell_type": "markdown",
   "metadata": {},
   "source": [
    "# MLMC Multi-Level Monte Carlo"
   ]
  },
  {
   "cell_type": "code",
   "execution_count": 1,
   "metadata": {},
   "outputs": [],
   "source": [
    "import sys\n",
    "sys.path.append('..')\n",
    "from parameters import *\n",
    "from functions import *\n",
    "\n",
    "X0 = [-1.5, 1]\n",
    "PDEProb = 0.7173050315908374"
   ]
  },
  {
   "cell_type": "markdown",
   "metadata": {},
   "source": [
    "## A. With different starting positions"
   ]
  },
  {
   "cell_type": "code",
   "execution_count": 2,
   "metadata": {},
   "outputs": [],
   "source": [
    "#defines variables for the MLMC with different starting positions\n",
    "L = 5\n",
    "N = 200\n",
    "\n",
    "X0 = np.c_[np.linspace(-1, -1.5,L+1), np.linspace(0,1,L+1)] #starting positions, on a line from the point to the well\n",
    "Walks = np.linspace(10000,100, L+1, dtype=int).tolist()#linear repartition of the number of walks"
   ]
  },
  {
   "cell_type": "code",
   "execution_count": 3,
   "metadata": {},
   "outputs": [
    {
     "data": {
      "text/plain": [
       "(array([[-1. ,  0. ],\n",
       "        [-1.1,  0.2],\n",
       "        [-1.2,  0.4],\n",
       "        [-1.3,  0.6],\n",
       "        [-1.4,  0.8],\n",
       "        [-1.5,  1. ]]), [10000, 8020, 6040, 4060, 2080, 100])"
      ]
     },
     "execution_count": 3,
     "metadata": {},
     "output_type": "execute_result"
    }
   ],
   "source": [
    "X0, Walks"
   ]
  },
  {
   "cell_type": "code",
   "execution_count": 4,
   "metadata": {},
   "outputs": [
    {
     "name": "stdout",
     "output_type": "stream",
     "text": [
      "\n",
      "Number of simulations: 100. Time needed = 0.44 s\n",
      "Estimated variance: 0.4605661864718383\n",
      "The estimated probability at [-1.5  1. ] is: 0.7 (using MC)\n",
      "Confidence interval: [ 0.7 +- 0.09138632344891306 ]\twith P = 0.95%\n"
     ]
    }
   ],
   "source": [
    "#runs a  basic simulation for comparison\n",
    "_ = BasicMonteCarlo(X0[L], Walks[L], N)"
   ]
  },
  {
   "cell_type": "code",
   "execution_count": 5,
   "metadata": {},
   "outputs": [
    {
     "name": "stdout",
     "output_type": "stream",
     "text": [
      "Calculating level 5\n",
      "Calculating level 4\n",
      "Calculating level 3\n",
      "Calculating level 2\n",
      "Calculating level 1\n",
      "Calculating level 0\n",
      "\n",
      "Number of simulations: 30300. Time needed = 18.70 s\n",
      "The estimated probability at [[-1.   0. ]\n",
      " [-1.1  0.2]\n",
      " [-1.2  0.4]\n",
      " [-1.3  0.6]\n",
      " [-1.4  0.8]\n",
      " [-1.5  1. ]] is: 0.6233324163355003 (using MLMC)\n",
      "With the variance reduction:     0.004249941235909293\n",
      "Whithout the variance reduction: 0.0045126085985421295\n"
     ]
    }
   ],
   "source": [
    "#runs the MLMC\n",
    "Function = MultilevelFunctionForLDifferentPositions #chooses what function will be used for MLMC\n",
    "E, VAR, Var, mean, VarFromTheLwalk = MultiLevelMonteCarlo(L, X0, Walks, Function, N, verbose=2) #Performs the MLMC"
   ]
  },
  {
   "cell_type": "code",
   "execution_count": 6,
   "metadata": {},
   "outputs": [
    {
     "data": {
      "text/plain": [
       "(array([ 1.   , -0.002, -0.018, -0.053, -0.103, -0.2  ]),\n",
       " array([0.   , 0.049, 0.135, 0.224, 0.304, 0.402]),\n",
       " 0.004249941235909293,\n",
       " 0.6233324163355003,\n",
       " 0.0045126085985421295)"
      ]
     },
     "execution_count": 6,
     "metadata": {},
     "output_type": "execute_result"
    }
   ],
   "source": [
    "#shows variances and expectations of each level\n",
    "E, VAR, Var, mean, VarFromTheLwalk"
   ]
  },
  {
   "cell_type": "markdown",
   "metadata": {},
   "source": [
    "# B. With different timestep each level"
   ]
  },
  {
   "cell_type": "code",
   "execution_count": 7,
   "metadata": {},
   "outputs": [
    {
     "name": "stdout",
     "output_type": "stream",
     "text": [
      "[2000, 1000, 500, 250, 125, 62] [ 90  92  94  96  98 100]\n"
     ]
    }
   ],
   "source": [
    "#Defines parameters\n",
    "L = 5\n",
    "X0 = np.array([-1.5,1])\n",
    "\n",
    "N0 = 90\n",
    "NL = 100\n",
    "#the size of the interval is created as described in the report\n",
    "N = createVectorN(N0,NL,L)\n",
    "\n",
    "#the number of walks created as described in the report\n",
    "k = 2000\n",
    "Walks = [round(k*2**-i) for i in range(L+1)]\n",
    "print(Walks, N)"
   ]
  },
  {
   "cell_type": "code",
   "execution_count": 8,
   "metadata": {},
   "outputs": [
    {
     "name": "stdout",
     "output_type": "stream",
     "text": [
      "\n",
      "Number of simulations: 62. Time needed = 0.17 s\n",
      "Estimated variance: 0.4945498837527219\n",
      "The estimated probability at [-1.5  1. ] is: 0.5967741935483871 (using MC)\n",
      "Confidence interval: [ 0.5967741935483871 +- 0.12559215419852143 ]\twith P = 0.95%\n"
     ]
    }
   ],
   "source": [
    "#runs a basic MC simulation for comparison\n",
    "_ = BasicMonteCarlo(X0, Walks[L], N[L])"
   ]
  },
  {
   "cell_type": "code",
   "execution_count": 9,
   "metadata": {
    "scrolled": true
   },
   "outputs": [
    {
     "name": "stdout",
     "output_type": "stream",
     "text": [
      "Calculating level 5\n",
      "Calculating level 4\n",
      "Calculating level 3\n",
      "Calculating level 2\n",
      "Calculating level 1\n",
      "Calculating level 0\n",
      "\n",
      "Number of simulations: 3937. Time needed = 6.71 s\n",
      "The estimated probability at [-1.5  1. ] is: 0.6423709677419355 (using MLMC)\n",
      "With the variance reduction:     0.0036885035221680875\n",
      "Whithout the variance reduction: 0.007780166376096112\n"
     ]
    }
   ],
   "source": [
    "#runs the MLMC\n",
    "Function = MultilevelFunctionForLDifferentTimesSteps\n",
    "E, VAR, Var, mean, VarFromTheLwalk = MultiLevelMonteCarlo(L, X0, Walks, Function, N, verbose=2)"
   ]
  },
  {
   "cell_type": "code",
   "execution_count": 10,
   "metadata": {},
   "outputs": [
    {
     "data": {
      "text/plain": [
       "(array([ 0.661,  0.001,  0.   ,  0.004, -0.008, -0.016]),\n",
       " array([0.473, 0.123, 0.063, 0.11 , 0.089, 0.127]),\n",
       " 0.0036885035221680875,\n",
       " 0.6423709677419355,\n",
       " 0.007780166376096112)"
      ]
     },
     "execution_count": 10,
     "metadata": {},
     "output_type": "execute_result"
    }
   ],
   "source": [
    "#shows variances and expectations of each level\n",
    "E, VAR, Var, mean, VarFromTheLwalk"
   ]
  }
 ],
 "metadata": {
  "kernelspec": {
   "display_name": "Python 3",
   "language": "python",
   "name": "python3"
  },
  "language_info": {
   "codemirror_mode": {
    "name": "ipython",
    "version": 3
   },
   "file_extension": ".py",
   "mimetype": "text/x-python",
   "name": "python",
   "nbconvert_exporter": "python",
   "pygments_lexer": "ipython3",
   "version": "3.6.5"
  }
 },
 "nbformat": 4,
 "nbformat_minor": 2
}
