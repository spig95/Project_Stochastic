{
 "cells": [
  {
   "cell_type": "markdown",
   "metadata": {},
   "source": [
    "# Task B"
   ]
  },
  {
   "cell_type": "code",
   "execution_count": 2,
   "metadata": {},
   "outputs": [],
   "source": [
    "from parameters import *\n",
    "from functions import *\n",
    "from parameters import *\n",
    "from functions import *\n",
    "from PDE_solutions import *\n",
    "\n",
    "walks = 5000"
   ]
  },
  {
   "cell_type": "code",
   "execution_count": 13,
   "metadata": {},
   "outputs": [
    {
     "name": "stdout",
     "output_type": "stream",
     "text": [
      "0.13871927767382727\n"
     ]
    },
    {
     "data": {
      "image/png": "[encoded data removed]",
      "text/plain": [
       "<Figure size 288x288 with 1 Axes>"
      ]
     },
     "metadata": {},
     "output_type": "display_data"
    }
   ],
   "source": [
    "#np.random.seed(SEED) #scipy is based on the numpy seed\n",
    "X, finalTime = RandomWalkAdaptiveTimeStep(X0, T)\n",
    "\n",
    "#plots the walk\n",
    "plt.figure(figsize=[4,4])\n",
    "X = X.T\n",
    "plt.plot(X[0,:],X[1,:], '.-')\n",
    "plt.xlim([-3,3])\n",
    "plt.ylim([-3,3])\n",
    "\n",
    "#plots the well\n",
    "theta = np.linspace(0,2*np.pi,100)\n",
    "plt.plot(R*np.cos(theta),R*np.sin(theta))\n",
    "print(finalTime)"
   ]
  },
  {
   "cell_type": "markdown",
   "metadata": {},
   "source": [
    "# MC simulation\n",
    "\n",
    "<b>Method 1</b>: expected value control, with the possibility to choose a <b>coefficient</b> to reduce/augment the bound"
   ]
  },
  {
   "cell_type": "code",
   "execution_count": 3,
   "metadata": {},
   "outputs": [
    {
     "name": "stdout",
     "output_type": "stream",
     "text": [
      "Current walk:  0\n",
      "Current walk:  100\n",
      "Current walk:  200\n",
      "Current walk:  300\n",
      "MAXITERS limit reached\n",
      "MAXITERS limit reached\n",
      "Current walk:  400\n",
      "MAXITERS limit reached\n",
      "Current walk:  500\n",
      "MAXITERS limit reached\n",
      "MAXITERS limit reached\n",
      "Current walk:  600\n",
      "MAXITERS limit reached\n",
      "Current walk:  700\n",
      "Current walk:  800\n",
      "MAXITERS limit reached\n",
      "Current walk:  900\n",
      "MAXITERS limit reached\n",
      "MAXITERS limit reached\n",
      "Current walk:  1000\n",
      "MAXITERS limit reached\n",
      "Current walk:  1100\n",
      "MAXITERS limit reached\n",
      "Current walk:  1200\n",
      "Current walk:  1300\n",
      "MAXITERS limit reached\n",
      "Current walk:  1400\n",
      "Current walk:  1500\n",
      "MAXITERS limit reached\n",
      "MAXITERS limit reached\n",
      "MAXITERS limit reached\n",
      "MAXITERS limit reached\n",
      "Current walk:  1600\n",
      "MAXITERS limit reached\n",
      "Current walk:  1700\n",
      "MAXITERS limit reached\n",
      "Current walk:  1800\n",
      "Current walk:  1900\n",
      "Current walk:  2000\n",
      "Current walk:  2100\n",
      "Current walk:  2200\n",
      "Current walk:  2300\n",
      "Current walk:  2400\n",
      "Current walk:  2500\n",
      "MAXITERS limit reached\n",
      "MAXITERS limit reached\n",
      "MAXITERS limit reached\n",
      "Current walk:  2600\n",
      "MAXITERS limit reached\n",
      "Current walk:  2700\n",
      "Current walk:  2800\n",
      "Current walk:  2900\n",
      "MAXITERS limit reached\n",
      "Current walk:  3000\n",
      "MAXITERS limit reached\n",
      "Current walk:  3100\n",
      "Current walk:  3200\n",
      "MAXITERS limit reached\n",
      "Current walk:  3300\n",
      "Current walk:  3400\n",
      "MAXITERS limit reached\n",
      "MAXITERS limit reached\n",
      "Current walk:  3500\n",
      "MAXITERS limit reached\n",
      "Current walk:  3600\n",
      "Current walk:  3700\n",
      "MAXITERS limit reached\n",
      "Current walk:  3800\n",
      "MAXITERS limit reached\n",
      "Current walk:  3900\n",
      "MAXITERS limit reached\n",
      "MAXITERS limit reached\n",
      "Current walk:  4000\n",
      "Current walk:  4100\n",
      "MAXITERS limit reached\n",
      "MAXITERS limit reached\n",
      "Current walk:  4200\n",
      "Current walk:  4300\n",
      "MAXITERS limit reached\n",
      "MAXITERS limit reached\n",
      "Current walk:  4400\n",
      "Current walk:  4500\n",
      "MAXITERS limit reached\n",
      "MAXITERS limit reached\n",
      "Current walk:  4600\n",
      "MAXITERS limit reached\n",
      "MAXITERS limit reached\n",
      "MAXITERS limit reached\n",
      "MAXITERS limit reached\n",
      "Current walk:  4700\n",
      "MAXITERS limit reached\n",
      "MAXITERS limit reached\n",
      "MAXITERS limit reached\n",
      "Current walk:  4800\n",
      "MAXITERS limit reached\n",
      "MAXITERS limit reached\n",
      "MAXITERS limit reached\n",
      "Current walk:  4900\n",
      "\n",
      "\n",
      "\n",
      "Number of simulations: 5000. Time needed = 61.692965507507324\n",
      "The estimated probability at [-1.5, 2.0] is: 0.1026 (using MC), 0.0980219 (using the PDE)\n",
      "Confidence interval: [ 0.1026 +- 0.008413532950008754 ]\twith P = 0.95%\n"
     ]
    }
   ],
   "source": [
    "np.random.seed(SEED) #scipy is based on the numpy seed\n",
    "polluted = np.zeros(walks)\n",
    "\n",
    "\n",
    "start = time.time()\n",
    "for w in range(walks):\n",
    "    if (w%100 == 0):\n",
    "        print('Current walk: ', w )\n",
    "    #diff equation\n",
    "    _, finalT = RandomWalkAdaptiveTimeStep(X0, T, coeff = 0.5)\n",
    "    if finalT < T:\n",
    "            polluted[w] = 1\n",
    "end = time.time()\n",
    "\n",
    "confidence = 0.95\n",
    "mean = polluted.mean()\n",
    "std = np.std(polluted, ddof = 1)\n",
    "LB, UB = CI(mean, std, walks, confidence)\n",
    "\n",
    "print(f'\\n\\n\\nNumber of simulations: {walks}. Time needed = {end - start}')\n",
    "print(f'The estimated probability at {X0} is: {mean} (using MC), {PDEProb} (using the PDE)')\n",
    "print(f'Confidence interval: [ {mean} +- {UB-mean} ]\\twith P = {confidence}%')"
   ]
  },
  {
   "cell_type": "markdown",
   "metadata": {},
   "source": [
    "<b>Method 2</b>: expected value control, with the possibility to choose a <b>coefficient</b> to reduce/augment the bound and a <b>threshold</b> to clip the high values of dt"
   ]
  },
  {
   "cell_type": "code",
   "execution_count": 4,
   "metadata": {},
   "outputs": [
    {
     "name": "stdout",
     "output_type": "stream",
     "text": [
      "Current walk:  0\n",
      "Current walk:  100\n",
      "MAXITERS limit reached\n",
      "Current walk:  200\n",
      "Current walk:  300\n",
      "Current walk:  400\n",
      "Current walk:  500\n",
      "Current walk:  600\n",
      "Current walk:  700\n",
      "Current walk:  800\n",
      "Current walk:  900\n",
      "Current walk:  1000\n",
      "Current walk:  1100\n",
      "Current walk:  1200\n",
      "Current walk:  1300\n",
      "Current walk:  1400\n",
      "Current walk:  1500\n",
      "Current walk:  1600\n",
      "Current walk:  1700\n",
      "Current walk:  1800\n",
      "Current walk:  1900\n",
      "Current walk:  2000\n",
      "Current walk:  2100\n",
      "Current walk:  2200\n",
      "Current walk:  2300\n",
      "Current walk:  2400\n",
      "Current walk:  2500\n",
      "Current walk:  2600\n",
      "Current walk:  2700\n",
      "MAXITERS limit reached\n",
      "Current walk:  2800\n",
      "Current walk:  2900\n",
      "Current walk:  3000\n",
      "Current walk:  3100\n",
      "MAXITERS limit reached\n",
      "Current walk:  3200\n",
      "Current walk:  3300\n",
      "Current walk:  3400\n",
      "Current walk:  3500\n",
      "Current walk:  3600\n",
      "Current walk:  3700\n",
      "Current walk:  3800\n",
      "Current walk:  3900\n",
      "Current walk:  4000\n",
      "Current walk:  4100\n",
      "Current walk:  4200\n",
      "Current walk:  4300\n",
      "Current walk:  4400\n",
      "Current walk:  4500\n",
      "Current walk:  4600\n",
      "Current walk:  4700\n",
      "Current walk:  4800\n",
      "Current walk:  4900\n",
      "\n",
      "\n",
      "\n",
      "Number of simulations: 5000. Time needed = 9.738945484161377\n",
      "The estimated probability at [-1.5, 2.0] is: 0.0932 (using MC), 0.0980219 (using the PDE)\n",
      "Confidence interval: [ 0.0932 +- 0.008060749013986818 ]\twith P = 0.95%\n"
     ]
    }
   ],
   "source": [
    "np.random.seed(SEED) #scipy is based on the numpy seed\n",
    "polluted = np.zeros(walks)\n",
    "\n",
    "start = time.time()\n",
    "for w in range(walks):\n",
    "    if (w%100 == 0):\n",
    "        print('Current walk: ', w )\n",
    "    #diff equation\n",
    "    _, finalT = RandomWalkAdaptiveTimeStepWithThreshold(X0, T, threshold = 0.1)\n",
    "    if finalT < T:\n",
    "            polluted[w] = 1\n",
    "end = time.time()\n",
    "\n",
    "\n",
    "\n",
    "confidence = 0.95\n",
    "mean = polluted.mean()\n",
    "std = np.std(polluted, ddof = 1)\n",
    "LB, UB = CI(mean, std, walks, confidence)\n",
    "\n",
    "print(f'\\n\\n\\nNumber of simulations: {walks}. Time needed = {end - start}')\n",
    "print(f'The estimated probability at {X0} is: {mean} (using MC), {PDEProb} (using the PDE)')\n",
    "print(f'Confidence interval: [ {mean} +- {UB-mean} ]\\twith P = {confidence}%')"
   ]
  },
  {
   "cell_type": "markdown",
   "metadata": {},
   "source": [
    "# Sometimes we are really near to the well...\n",
    "\n",
    "In these cases the steps become too small and we go on \"forever\", I set a maximum numbers of iterations to stop that simulations. This is a visualization of one of this (rare) situations\n",
    "\n",
    "<b>Method 1</b>: expected value control, with the possibility to choose a <b>coefficient</b> to reduce/augment the bound\n"
   ]
  },
  {
   "cell_type": "code",
   "execution_count": 5,
   "metadata": {},
   "outputs": [
    {
     "name": "stdout",
     "output_type": "stream",
     "text": [
      "MAXITERS limit reached\n"
     ]
    },
    {
     "data": {
      "text/plain": [
       "[<matplotlib.lines.Line2D at 0x1ad6c2d1a58>]"
      ]
     },
     "execution_count": 5,
     "metadata": {},
     "output_type": "execute_result"
    },
    {
     "data": {
      "image/png": "[encoded data removed]",
      "text/plain": [
       "<Figure size 288x288 with 1 Axes>"
      ]
     },
     "metadata": {},
     "output_type": "display_data"
    }
   ],
   "source": [
    "np.random.seed(1) #scipy is based on the numpy seed\n",
    "TT = 0\n",
    "while (TT!= 0.11111):\n",
    "    X, TT = RandomWalkAdaptiveTimeStep(X0, T)\n",
    "\n",
    "#plots the walk\n",
    "plt.figure(figsize=[4,4])\n",
    "X = np.asarray(X)\n",
    "X = X.T\n",
    "plt.plot(X[0,:],X[1,:], '.-')\n",
    "plt.xlim([-3,3])\n",
    "plt.ylim([-3,3])\n",
    "\n",
    "#plots the well\n",
    "theta = np.linspace(0,2*np.pi,100)\n",
    "plt.plot(R*np.cos(theta),R*np.sin(theta))"
   ]
  },
  {
   "cell_type": "markdown",
   "metadata": {},
   "source": [
    "<b>Method 2</b>: expected value control, with the possibility to choose a <b>coefficient</b> to reduce/augment the bound and a <b>threshold</b> to clip the high values of dt"
   ]
  },
  {
   "cell_type": "code",
   "execution_count": 6,
   "metadata": {},
   "outputs": [
    {
     "name": "stdout",
     "output_type": "stream",
     "text": [
      "MAXITERS limit reached\n"
     ]
    },
    {
     "data": {
      "text/plain": [
       "[<matplotlib.lines.Line2D at 0x1ad6c273be0>]"
      ]
     },
     "execution_count": 6,
     "metadata": {},
     "output_type": "execute_result"
    },
    {
     "data": {
      "image/png": "[encoded data removed]",
      "text/plain": [
       "<Figure size 288x288 with 1 Axes>"
      ]
     },
     "metadata": {},
     "output_type": "display_data"
    }
   ],
   "source": [
    "np.random.seed(1) #scipy is based on the numpy seed\n",
    "TT = 0\n",
    "while (TT!= 0.11111):\n",
    "    X, TT = RandomWalkAdaptiveTimeStepWithThreshold(X0, T, threshold=0.1)\n",
    "\n",
    "#plots the walk\n",
    "plt.figure(figsize=[4,4])\n",
    "X = np.asarray(X)\n",
    "X = X.T\n",
    "plt.plot(X[0,:],X[1,:], '.-')\n",
    "plt.xlim([-3,3])\n",
    "plt.ylim([-3,3])\n",
    "\n",
    "#plots the well\n",
    "theta = np.linspace(0,2*np.pi,100)\n",
    "plt.plot(R*np.cos(theta),R*np.sin(theta))"
   ]
  }
 ],
 "metadata": {
  "kernelspec": {
   "display_name": "Python 3",
   "language": "python",
   "name": "python3"
  },
  "language_info": {
   "codemirror_mode": {
    "name": "ipython",
    "version": 3
   },
   "file_extension": ".py",
   "mimetype": "text/x-python",
   "name": "python",
   "nbconvert_exporter": "python",
   "pygments_lexer": "ipython3",
   "version": "3.6.5"
  }
 },
 "nbformat": 4,
 "nbformat_minor": 2
}
