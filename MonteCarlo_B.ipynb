{
 "cells": [
  {
   "cell_type": "code",
   "execution_count": 2,
   "metadata": {},
   "outputs": [],
   "source": [
    "import numpy as np\n",
    "from scipy.stats import norm\n",
    "import matplotlib.pyplot as plt"
   ]
  },
  {
   "cell_type": "code",
   "execution_count": 78,
   "metadata": {},
   "outputs": [],
   "source": [
    "def u(X) :\n",
    "    pre = q / (2*np.pi * (X[0]**2 + X[1]**2)) \n",
    "    return np.array([1+pre*X[0], pre*X[1]])\n",
    "\n",
    "def NaiveRandomWalk(X0, N, T):\n",
    "    ''' X0: initial position\n",
    "        N: number of steps\n",
    "        T: Final time'''\n",
    "    X = []\n",
    "    dt = T/N\n",
    "    sigmaSqrtDt = sigma * np.sqrt(dt)\n",
    "    X.append(X0)\n",
    "    finalT = dt\n",
    "    for i in range(N-1):\n",
    "        X0 = X0 + u(X0) * dt + sigmaSqrtDt* norm.rvs(size=2)\n",
    "        X.append(X0)\n",
    "        finalT = finalT + dt\n",
    "        r = np.sqrt( X0[0]**2 + X0[1]**2 )\n",
    "        if(r<1):\n",
    "            break\n",
    "    \n",
    "    return np.asarray(X), finalT\n",
    "\n",
    "def deltaTBound(X, sigma, R):\n",
    "    r = np.sqrt(X[0]**2 + X[1]**2)\n",
    "    U = u(X)\n",
    "    delta = sigma**4 + (U[0]**2 + U[1]**2) * (R-r)**2\n",
    "    bound = - sigma**2 + np.sqrt(delta)\n",
    "    return bound/(U[0]**2 + U[1]**2)\n",
    "\n",
    "def RandomWalkAdaptiveTimeStep(X0, T):\n",
    "    ''' X0: initial position\n",
    "        T: Final time'''\n",
    "    X = []\n",
    "    coeff = 0.5\n",
    "    dt = coeff * deltaTBound(X0, sigma, R)\n",
    "    sigmaSqrtDt = sigma * np.sqrt(dt)\n",
    "    X.append(X0)\n",
    "    finalT = dt\n",
    "    for i in range(N-1):\n",
    "        dt = coeff * deltaTBound(X0, sigma, R)\n",
    "        X0 = X0 + u(X0) * dt + sigmaSqrtDt* norm.rvs(size=2)\n",
    "        X.append(X0)\n",
    "        finalT = finalT + dt\n",
    "        r = np.sqrt( X0[0]**2 + X0[1]**2 )\n",
    "        if ((r<1) | (finalT >= 1)):\n",
    "            break\n",
    "    \n",
    "    return np.asarray(X), finalT"
   ]
  },
  {
   "cell_type": "code",
   "execution_count": 79,
   "metadata": {},
   "outputs": [],
   "source": [
    "q = 1\n",
    "sigma = 2 \n",
    "walks = 500\n",
    "R = 1\n",
    "T = 1\n",
    "N = 200\n",
    "dt = T/N\n",
    "sigmaSqrtDt = sigma * np.sqrt(T/N)\n",
    "X0 = [1.1,1.2]"
   ]
  },
  {
   "cell_type": "code",
   "execution_count": 80,
   "metadata": {},
   "outputs": [
    {
     "name": "stdout",
     "output_type": "stream",
     "text": [
      "1.0050257629931254\n"
     ]
    },
    {
     "data": {
      "image/png": "[encoded data removed]",
      "text/plain": [
       "<Figure size 288x288 with 1 Axes>"
      ]
     },
     "metadata": {},
     "output_type": "display_data"
    }
   ],
   "source": [
    "X, finalTime = RandomWalkAdaptiveTimeStep(X0, T)\n",
    "\n",
    "#plots the walk\n",
    "plt.figure(figsize=[4,4])\n",
    "X = X.T\n",
    "plt.plot(X[0,:],X[1,:], '.-')\n",
    "plt.xlim([-1,4])\n",
    "plt.ylim([-1,4])\n",
    "\n",
    "#plots the well\n",
    "theta = np.linspace(0,2*np.pi,100)\n",
    "plt.plot(R*np.cos(theta),R*np.sin(theta))\n",
    "print(finalTime)"
   ]
  },
  {
   "cell_type": "code",
   "execution_count": 89,
   "metadata": {},
   "outputs": [
    {
     "name": "stdout",
     "output_type": "stream",
     "text": [
      "0.328\n"
     ]
    }
   ],
   "source": [
    "polluted = 0\n",
    "X0 = [1.1,1.2]\n",
    "X_next = [0,0]\n",
    "polluted = np.zeros(walks)\n",
    "for w in range(walks):\n",
    "    #diff equation\n",
    "    X_0 = [1.1,1.2]\n",
    "    _, finalT = RandomWalkAdaptiveTimeStep(X0, T)\n",
    "    if finalT < 1:\n",
    "            polluted[w] = 1\n",
    "            \n",
    "print(polluted.mean())"
   ]
  },
  {
   "cell_type": "code",
   "execution_count": 90,
   "metadata": {},
   "outputs": [],
   "source": [
    "chunks = 10\n",
    "poll = polluted.reshape(chunks,-1)\n",
    "means = np.zeros(chunks)\n",
    "for i in range(chunks):\n",
    "    means[i] = poll[i].mean()"
   ]
  },
  {
   "cell_type": "code",
   "execution_count": 91,
   "metadata": {},
   "outputs": [
    {
     "data": {
      "text/plain": [
       "0.046647615158762416"
      ]
     },
     "execution_count": 91,
     "metadata": {},
     "output_type": "execute_result"
    }
   ],
   "source": [
    "means.std()"
   ]
  }
 ],
 "metadata": {
  "kernelspec": {
   "display_name": "Python 3",
   "language": "python",
   "name": "python3"
  },
  "language_info": {
   "codemirror_mode": {
    "name": "ipython",
    "version": 3
   },
   "file_extension": ".py",
   "mimetype": "text/x-python",
   "name": "python",
   "nbconvert_exporter": "python",
   "pygments_lexer": "ipython3",
   "version": "3.6.5"
  }
 },
 "nbformat": 4,
 "nbformat_minor": 2
}
