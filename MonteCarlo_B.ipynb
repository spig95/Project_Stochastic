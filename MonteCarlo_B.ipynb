{
 "cells": [
  {
   "cell_type": "markdown",
   "metadata": {},
   "source": [
    "# Task B"
   ]
  },
  {
   "cell_type": "code",
   "execution_count": 1,
   "metadata": {},
   "outputs": [],
   "source": [
    "from parameters import *\n",
    "from functions import *\n",
    "walks = 1500\n",
    "\n",
    "# X0 = [-1.5, 1.]\n",
    "# PDEProb = 0.7132074678294174\n",
    "\n",
    "# X0 = [-1.5, 1.5]\n",
    "# PDEProb = 0.3397504218684861\n",
    "\n",
    "X0 = [-1.5, 2.]\n",
    "PDEProb = 0.09802192210119967"
   ]
  },
  {
   "cell_type": "code",
   "execution_count": 2,
   "metadata": {},
   "outputs": [
    {
     "name": "stdout",
     "output_type": "stream",
     "text": [
      "1.4028284767503123\n"
     ]
    },
    {
     "data": {
      "image/png": "[encoded data removed]",
      "text/plain": [
       "<Figure size 288x288 with 1 Axes>"
      ]
     },
     "metadata": {},
     "output_type": "display_data"
    }
   ],
   "source": [
    "np.random.seed(SEED) #scipy is based on the numpy seed\n",
    "X, finalTime = RandomWalkAdaptiveTimeStep(X0, T)\n",
    "\n",
    "#plots the walk\n",
    "plt.figure(figsize=[4,4])\n",
    "X = X.T\n",
    "plt.plot(X[0,:],X[1,:], '.-')\n",
    "plt.xlim([-3,3])\n",
    "plt.ylim([-3,3])\n",
    "\n",
    "#plots the well\n",
    "theta = np.linspace(0,2*np.pi,100)\n",
    "plt.plot(R*np.cos(theta),R*np.sin(theta))\n",
    "print(finalTime)"
   ]
  },
  {
   "cell_type": "markdown",
   "metadata": {},
   "source": [
    "# MC simulation\n",
    "\n",
    "<b>Method 1</b>: expected value control, with the possibility to choose a <b>coefficient</b> to reduce/augment the bound"
   ]
  },
  {
   "cell_type": "code",
   "execution_count": 3,
   "metadata": {},
   "outputs": [
    {
     "name": "stdout",
     "output_type": "stream",
     "text": [
      "Current walk:  0\n",
      "Current walk:  100\n",
      "Current walk:  200\n",
      "Current walk:  300\n",
      "MAXITERS limit reached\n",
      "MAXITERS limit reached\n",
      "Current walk:  400\n",
      "MAXITERS limit reached\n",
      "Current walk:  500\n",
      "MAXITERS limit reached\n",
      "MAXITERS limit reached\n",
      "Current walk:  600\n",
      "MAXITERS limit reached\n",
      "Current walk:  700\n",
      "Current walk:  800\n",
      "MAXITERS limit reached\n",
      "Current walk:  900\n",
      "MAXITERS limit reached\n",
      "MAXITERS limit reached\n",
      "Current walk:  1000\n",
      "MAXITERS limit reached\n",
      "Current walk:  1100\n",
      "MAXITERS limit reached\n",
      "Current walk:  1200\n",
      "Current walk:  1300\n",
      "MAXITERS limit reached\n",
      "Current walk:  1400\n",
      "\n",
      "\n",
      "\n",
      "Number of simulations: 1500\n",
      "The estimated probability at [-1.5, 2.0] is: 0.112 (using MC), 0.09802192210119967 (using the PDE)\n",
      "Confidence interval: [ 0.112 +- 0.015977674737899836 ]\twith P = 0.95%\n"
     ]
    }
   ],
   "source": [
    "np.random.seed(SEED) #scipy is based on the numpy seed\n",
    "polluted = np.zeros(walks)\n",
    "for w in range(walks):\n",
    "    if (w%100 == 0):\n",
    "        print('Current walk: ', w )\n",
    "    #diff equation\n",
    "    _, finalT = RandomWalkAdaptiveTimeStep(X0, T, coeff = 0.5)\n",
    "    if finalT < T:\n",
    "            polluted[w] = 1\n",
    "\n",
    "confidence = 0.95\n",
    "mean = polluted.mean()\n",
    "std = np.std(polluted, ddof = 1)\n",
    "LB, UB = CI(mean, std, walks, confidence)\n",
    "\n",
    "print(f'\\n\\n\\nNumber of simulations: {walks}')\n",
    "print(f'The estimated probability at {X0} is: {mean} (using MC), {PDEProb} (using the PDE)')\n",
    "print(f'Confidence interval: [ {mean} +- {UB-mean} ]\\twith P = {confidence}%')"
   ]
  },
  {
   "cell_type": "markdown",
   "metadata": {},
   "source": [
    "<b>Method 2</b>: expected value control, with the possibility to choose a <b>coefficient</b> to reduce/augment the bound and a <b>threshold</b> to clip the high values of dt"
   ]
  },
  {
   "cell_type": "code",
   "execution_count": 4,
   "metadata": {},
   "outputs": [
    {
     "name": "stdout",
     "output_type": "stream",
     "text": [
      "Current walk:  0\n",
      "Current walk:  100\n",
      "MAXITERS limit reached\n",
      "Current walk:  200\n",
      "Current walk:  300\n",
      "Current walk:  400\n",
      "Current walk:  500\n",
      "Current walk:  600\n",
      "Current walk:  700\n",
      "Current walk:  800\n",
      "Current walk:  900\n",
      "Current walk:  1000\n",
      "Current walk:  1100\n",
      "Current walk:  1200\n",
      "Current walk:  1300\n",
      "Current walk:  1400\n",
      "\n",
      "\n",
      "\n",
      "Number of simulations: 1500\n",
      "The estimated probability at [-1.5, 2.0] is: 0.10666666666666667 (using MC), 0.09802192210119967 (using the PDE)\n",
      "Confidence interval: [ 0.10666666666666667 +- 0.01563936851179447 ]\twith P = 0.95%\n"
     ]
    }
   ],
   "source": [
    "np.random.seed(SEED) #scipy is based on the numpy seed\n",
    "polluted = np.zeros(walks)\n",
    "for w in range(walks):\n",
    "    if (w%100 == 0):\n",
    "        print('Current walk: ', w )\n",
    "    #diff equation\n",
    "    _, finalT = RandomWalkAdaptiveTimeStepWithThreshold(X0, T, threshold = 0.1)\n",
    "    if finalT < T:\n",
    "            polluted[w] = 1\n",
    "\n",
    "confidence = 0.95\n",
    "mean = polluted.mean()\n",
    "std = np.std(polluted, ddof = 1)\n",
    "LB, UB = CI(mean, std, walks, confidence)\n",
    "\n",
    "print(f'\\n\\n\\nNumber of simulations: {walks}')\n",
    "print(f'The estimated probability at {X0} is: {mean} (using MC), {PDEProb} (using the PDE)')\n",
    "print(f'Confidence interval: [ {mean} +- {UB-mean} ]\\twith P = {confidence}%')"
   ]
  },
  {
   "cell_type": "markdown",
   "metadata": {},
   "source": [
    "# Sometimes we are really near to the well...\n",
    "\n",
    "In these cases the steps become too small and we go on \"forever\", I set a maximum numbers of iterations to stop that simulations. This is a visualization of one of this (rare) situations\n",
    "\n",
    "<b>Method 1</b>: expected value control, with the possibility to choose a <b>coefficient</b> to reduce/augment the bound\n"
   ]
  },
  {
   "cell_type": "code",
   "execution_count": 5,
   "metadata": {},
   "outputs": [
    {
     "name": "stdout",
     "output_type": "stream",
     "text": [
      "MAXITERS limit reached\n"
     ]
    },
    {
     "data": {
      "text/plain": [
       "[<matplotlib.lines.Line2D at 0x1e887b5f940>]"
      ]
     },
     "execution_count": 5,
     "metadata": {},
     "output_type": "execute_result"
    },
    {
     "data": {
      "image/png": "[encoded data removed]",
      "text/plain": [
       "<Figure size 288x288 with 1 Axes>"
      ]
     },
     "metadata": {},
     "output_type": "display_data"
    }
   ],
   "source": [
    "np.random.seed(1) #scipy is based on the numpy seed\n",
    "TT = 0\n",
    "while (TT!= 0.11111):\n",
    "    X, TT = RandomWalkAdaptiveTimeStep(X0, T)\n",
    "\n",
    "#plots the walk\n",
    "plt.figure(figsize=[4,4])\n",
    "X = np.asarray(X)\n",
    "X = X.T\n",
    "plt.plot(X[0,:],X[1,:], '.-')\n",
    "plt.xlim([-3,3])\n",
    "plt.ylim([-3,3])\n",
    "\n",
    "#plots the well\n",
    "theta = np.linspace(0,2*np.pi,100)\n",
    "plt.plot(R*np.cos(theta),R*np.sin(theta))"
   ]
  },
  {
   "cell_type": "markdown",
   "metadata": {},
   "source": [
    "<b>Method 2</b>: expected value control, with the possibility to choose a <b>coefficient</b> to reduce/augment the bound and a <b>threshold</b> to clip the high values of dt"
   ]
  },
  {
   "cell_type": "code",
   "execution_count": 8,
   "metadata": {},
   "outputs": [
    {
     "name": "stdout",
     "output_type": "stream",
     "text": [
      "MAXITERS limit reached\n"
     ]
    },
    {
     "data": {
      "text/plain": [
       "[<matplotlib.lines.Line2D at 0x1e887ca9908>]"
      ]
     },
     "execution_count": 8,
     "metadata": {},
     "output_type": "execute_result"
    },
    {
     "data": {
      "image/png": "[encoded data removed]",
      "text/plain": [
       "<Figure size 288x288 with 1 Axes>"
      ]
     },
     "metadata": {},
     "output_type": "display_data"
    }
   ],
   "source": [
    "np.random.seed(1) #scipy is based on the numpy seed\n",
    "TT = 0\n",
    "while (TT!= 0.11111):\n",
    "    X, TT = RandomWalkAdaptiveTimeStepWithThreshold(X0, T, threshold=0.1)\n",
    "\n",
    "#plots the walk\n",
    "plt.figure(figsize=[4,4])\n",
    "X = np.asarray(X)\n",
    "X = X.T\n",
    "plt.plot(X[0,:],X[1,:], '.-')\n",
    "plt.xlim([-3,3])\n",
    "plt.ylim([-3,3])\n",
    "\n",
    "#plots the well\n",
    "theta = np.linspace(0,2*np.pi,100)\n",
    "plt.plot(R*np.cos(theta),R*np.sin(theta))"
   ]
  }
 ],
 "metadata": {
  "kernelspec": {
   "display_name": "Python 3",
   "language": "python",
   "name": "python3"
  },
  "language_info": {
   "codemirror_mode": {
    "name": "ipython",
    "version": 3
   },
   "file_extension": ".py",
   "mimetype": "text/x-python",
   "name": "python",
   "nbconvert_exporter": "python",
   "pygments_lexer": "ipython3",
   "version": "3.6.5"
  }
 },
 "nbformat": 4,
 "nbformat_minor": 2
}
