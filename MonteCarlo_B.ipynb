{
 "cells": [
  {
   "cell_type": "markdown",
   "metadata": {},
   "source": [
    "# Task B"
   ]
  },
  {
   "cell_type": "code",
   "execution_count": 1,
   "metadata": {},
   "outputs": [],
   "source": [
    "from parameters import *\n",
    "from functions import *\n",
    "from parameters import *\n",
    "from functions import *\n",
    "from PDE_solutions import *\n",
    "\n",
    "walks = 5000\n"
   ]
  },
  {
   "cell_type": "code",
   "execution_count": 2,
   "metadata": {},
   "outputs": [
    {
     "name": "stdout",
     "output_type": "stream",
     "text": [
      "False\n"
     ]
    },
    {
     "data": {
      "image/png": "[encoded data removed]",
      "text/plain": [
       "<Figure size 288x288 with 1 Axes>"
      ]
     },
     "metadata": {},
     "output_type": "display_data"
    }
   ],
   "source": [
    "#np.random.seed(SEED) #scipy is based on the numpy seed\n",
    "X, finalTime = RandomWalkAdaptiveTimeStep(X0)\n",
    "\n",
    "#plots the walk\n",
    "plt.figure(figsize=[4,4])\n",
    "X = X.T\n",
    "plt.plot(X[0,:],X[1,:], '.-')\n",
    "plt.xlim([-3,3])\n",
    "plt.ylim([-3,3])\n",
    "\n",
    "#plots the well\n",
    "theta = np.linspace(0,2*np.pi,100)\n",
    "plt.plot(R*np.cos(theta),R*np.sin(theta))\n",
    "print(finalTime)"
   ]
  },
  {
   "cell_type": "markdown",
   "metadata": {},
   "source": [
    "# MC simulation\n",
    "\n",
    "<b>Method 1</b>: expected value control, with the possibility to choose a <b>coefficient</b> to reduce/augment the bound"
   ]
  },
  {
   "cell_type": "code",
   "execution_count": 3,
   "metadata": {},
   "outputs": [
    {
     "name": "stdout",
     "output_type": "stream",
     "text": [
      "Current walk:  0\n",
      "Current walk:  100\n",
      "Current walk:  200\n",
      "Current walk:  300\n",
      "Current walk:  400\n",
      "Current walk:  500\n",
      "Current walk:  600\n",
      "Current walk:  700\n",
      "Current walk:  800\n",
      "Current walk:  900\n",
      "Current walk:  1000\n",
      "Current walk:  1100\n",
      "Current walk:  1200\n",
      "Current walk:  1300\n",
      "Current walk:  1400\n",
      "Current walk:  1500\n",
      "Current walk:  1600\n",
      "Current walk:  1700\n",
      "Current walk:  1800\n",
      "Current walk:  1900\n",
      "Current walk:  2000\n",
      "Current walk:  2100\n",
      "Current walk:  2200\n",
      "Current walk:  2300\n",
      "Current walk:  2400\n",
      "Current walk:  2500\n",
      "Current walk:  2600\n",
      "Current walk:  2700\n",
      "Current walk:  2800\n",
      "Current walk:  2900\n",
      "Current walk:  3000\n",
      "Current walk:  3100\n",
      "Current walk:  3200\n",
      "Current walk:  3300\n",
      "Current walk:  3400\n",
      "Current walk:  3500\n",
      "Current walk:  3600\n",
      "Current walk:  3700\n",
      "Current walk:  3800\n",
      "Current walk:  3900\n",
      "Current walk:  4000\n",
      "Current walk:  4100\n",
      "Current walk:  4200\n",
      "Current walk:  4300\n",
      "Current walk:  4400\n",
      "Current walk:  4500\n",
      "Current walk:  4600\n",
      "Current walk:  4700\n",
      "Current walk:  4800\n",
      "Current walk:  4900\n",
      "\n",
      "\n",
      "\n",
      "Number of simulations: 5000. Time needed = 8.60149335861206\n",
      "The estimated probability at [-1.5, 1.0] is: 0.7112 (using MC), 0.7173050315908374 (using the PDE)\n",
      "Confidence interval: [ 0.7112 +- 0.012566263303708691 ]\twith P = 0.95%\n"
     ]
    }
   ],
   "source": [
    "np.random.seed(SEED) #scipy is based on the numpy seed\n",
    "polluted = np.zeros(walks)\n",
    "\n",
    "\n",
    "start = time.time()\n",
    "for w in range(walks):\n",
    "    if (w%100 == 0):\n",
    "        print('Current walk: ', w )\n",
    "    #diff equation\n",
    "    _, IsIn = RandomWalkAdaptiveTimeStep(X0, deltaT=deltaTBoundOrder1, coeff=0.5)\n",
    "    if IsIn: polluted[w] = 1\n",
    "end = time.time()\n",
    "\n",
    "confidence = 0.95\n",
    "mean = polluted.mean()\n",
    "std = np.std(polluted, ddof = 1)\n",
    "LB, UB = CI(mean, std, walks, confidence)\n",
    "\n",
    "print(f'\\n\\n\\nNumber of simulations: {walks}. Time needed = {end - start}')\n",
    "print(f'The estimated probability at {X0} is: {mean} (using MC), {PDEProb} (using the PDE)')\n",
    "print(f'Confidence interval: [ {mean} +- {UB-mean} ]\\twith P = {confidence}%')"
   ]
  },
  {
   "cell_type": "markdown",
   "metadata": {},
   "source": [
    "# MonteCarloFor Different timestesp"
   ]
  },
  {
   "cell_type": "code",
   "execution_count": 4,
   "metadata": {},
   "outputs": [
    {
     "name": "stdout",
     "output_type": "stream",
     "text": [
      "\n",
      "Number of simulations: 3000. Time needed = 4.98 s\n",
      "Estimated variance: 0.45085213182425904\n",
      "The estimated probability at [-1.5, 1.0] is: 0.7163333333333334 (using MC)\n",
      "Confidence interval: [ 0.7163333333333334 +- 0.016139753667916645 ]\twith P = 0.95%\n",
      "\n",
      "PDE result at [-1.5, 1.0] is:  0.7173050315908374\n"
     ]
    },
    {
     "data": {
      "text/plain": [
       "(0.7163333333333334, 0.45085213182425904, 0.7001935796654167, 0.73247308700125)"
      ]
     },
     "execution_count": 4,
     "metadata": {},
     "output_type": "execute_result"
    }
   ],
   "source": [
    "AdaptiveTimeStepMonteCarlo(X0,3000, verbose=1, PDEProb=PDEProb)"
   ]
  },
  {
   "cell_type": "code",
   "execution_count": 5,
   "metadata": {},
   "outputs": [
    {
     "data": {
      "text/plain": [
       "[<matplotlib.lines.Line2D at 0x7f705e72f588>]"
      ]
     },
     "execution_count": 5,
     "metadata": {},
     "output_type": "execute_result"
    },
    {
     "data": {
      "image/png": "[encoded data removed]",
      "text/plain": [
       "<Figure size 432x288 with 1 Axes>"
      ]
     },
     "metadata": {},
     "output_type": "display_data"
    }
   ],
   "source": [
    "#plots the different time step variation on x axis\n",
    "deltaT = deltaTBoundOrder2\n",
    "X = np.linspace(1,2,100)\n",
    "plt.plot(-X, [deltaTBoundOrder1([-x,0]) for x in X])\n",
    "plt.plot(-X, [deltaTBoundOrder2([-x,0]) for x in X])"
   ]
  },
  {
   "cell_type": "code",
   "execution_count": 6,
   "metadata": {},
   "outputs": [
    {
     "data": {
      "text/plain": [
       "[<matplotlib.lines.Line2D at 0x7f705e698a58>]"
      ]
     },
     "execution_count": 6,
     "metadata": {},
     "output_type": "execute_result"
    },
    {
     "data": {
      "image/png": "[encoded data removed]",
      "text/plain": [
       "<Figure size 432x288 with 1 Axes>"
      ]
     },
     "metadata": {},
     "output_type": "display_data"
    }
   ],
   "source": [
    "#plots the different time step variation on y axis\n",
    "sigma = 1\n",
    "deltaT = deltaTBoundOrder2\n",
    "Y = np.linspace(1,2,100)\n",
    "plt.plot(Y, [deltaTBoundOrder1([y,0]) for y in Y])\n",
    "plt.plot(Y, [deltaTBoundOrder2([y,0]) for y in Y])"
   ]
  },
  {
   "cell_type": "code",
   "execution_count": 27,
   "metadata": {},
   "outputs": [
    {
     "data": {
      "image/png": "[encoded data removed]",
      "text/plain": [
       "<Figure size 432x288 with 1 Axes>"
      ]
     },
     "metadata": {},
     "output_type": "display_data"
    }
   ],
   "source": [
    "#plots the different time step variation on r axis\n",
    "figTimestep = plt.figure()\n",
    "plt.xlabel(\"Radial Position\")\n",
    "plt.ylabel(\"Timestep\")\n",
    "\n",
    "Radiuses = np.linspace(1,1.5,100)\n",
    "r_coordinates = (Radiuses*np.sqrt(2)/2)\n",
    "plt.plot(Radiuses, np.array([deltaTBoundOrder1([i,i]) for i in r_coordinates]), label= \"Order 1\" )\n",
    "plt.plot(Radiuses, np.array([deltaTBoundOrder2([i,i]) for i in r_coordinates]), label= \"Order 2\" )\n",
    "plt.plot(Radiuses, [0.05 for i in r_coordinates], label = \"Clipping value\", color = \"grey\",linestyle = \"dashed\" )\n",
    "\n",
    "plt.legend()\n",
    "figTimestep.savefig(\"timesteps.pdf\")"
   ]
  },
  {
   "cell_type": "code",
   "execution_count": 8,
   "metadata": {},
   "outputs": [
    {
     "name": "stdout",
     "output_type": "stream",
     "text": [
      "False\n"
     ]
    },
    {
     "data": {
      "image/png": "[encoded data removed]",
      "text/plain": [
       "<Figure size 288x288 with 1 Axes>"
      ]
     },
     "metadata": {},
     "output_type": "display_data"
    }
   ],
   "source": [
    "#np.random.seed(SEED) #scipy is based on the numpy seed\n",
    "X, finalTime = RandomWalkAdaptiveTimeStep(X0, deltaTBoundOrder2, T)\n",
    "\n",
    "#plots the walk\n",
    "plt.figure(figsize=[4,4])\n",
    "X = X.T\n",
    "plt.plot(X[0,:],X[1,:], '.-')\n",
    "plt.xlim([-3,3])\n",
    "plt.ylim([-3,3])\n",
    "\n",
    "#plots the well\n",
    "theta = np.linspace(0,2*np.pi,100)\n",
    "plt.plot(R*np.cos(theta),R*np.sin(theta))\n",
    "print(finalTime)"
   ]
  },
  {
   "cell_type": "markdown",
   "metadata": {},
   "source": [
    "# Reduction of Computation Time"
   ]
  },
  {
   "cell_type": "code",
   "execution_count": 12,
   "metadata": {},
   "outputs": [
    {
     "name": "stdout",
     "output_type": "stream",
     "text": [
      "\n",
      "Number of simulations: 10. Time needed = 0.02 s\n",
      "Estimated variance: 0.31622776601683794\n",
      "The estimated probability at [-1.5, 1.0] is: 0.9 (using MC)\n",
      "Confidence interval: [ 0.9 +- 0.2262157162740991 ]\twith P = 0.95%\n",
      "\n",
      "Number of simulations: 10. Time needed = 0.03 s\n",
      "Estimated variance: 0.42163702135578396\n",
      "The estimated probability at [-1.5, 1.0] is: 0.8 (using MC)\n",
      "Confidence interval: [ 0.8 +- 0.30162095503213227 ]\twith P = 0.95%\n",
      "\n",
      "Number of simulations: 10. Time needed = 3.87 s\n",
      "Estimated variance: 0.5163977794943223\n",
      "The estimated probability at [-1.5, 1.0] is: 0.6 (using MC)\n",
      "Confidence interval: [ 0.6 +- 0.3694087177798371 ]\twith P = 0.95%\n",
      "\n",
      "Number of simulations: 100. Time needed = 0.17 s\n",
      "Estimated variance: 0.44084400227680803\n",
      "The estimated probability at [-1.5, 1.0] is: 0.74 (using MC)\n",
      "Confidence interval: [ 0.74 +- 0.08747301422885745 ]\twith P = 0.95%\n",
      "\n",
      "Number of simulations: 100. Time needed = 0.27 s\n",
      "Estimated variance: 0.4605661864718383\n",
      "The estimated probability at [-1.5, 1.0] is: 0.7 (using MC)\n",
      "Confidence interval: [ 0.7 +- 0.09138632344891306 ]\twith P = 0.95%\n",
      "\n",
      "Number of simulations: 100. Time needed = 29.73 s\n",
      "Estimated variance: 0.45604802157206864\n",
      "The estimated probability at [-1.5, 1.0] is: 0.71 (using MC)\n",
      "Confidence interval: [ 0.71 +- 0.09048982151052964 ]\twith P = 0.95%\n",
      "\n",
      "Number of simulations: 1000. Time needed = 1.66 s\n",
      "Estimated variance: 0.4393996723622721\n",
      "The estimated probability at [-1.5, 1.0] is: 0.739 (using MC)\n",
      "Confidence interval: [ 0.739 +- 0.02726680853948249 ]\twith P = 0.95%\n",
      "\n",
      "Number of simulations: 1000. Time needed = 2.24 s\n",
      "Estimated variance: 0.4487319471135973\n",
      "The estimated probability at [-1.5, 1.0] is: 0.721 (using MC)\n",
      "Confidence interval: [ 0.721 +- 0.027845919915497452 ]\twith P = 0.95%\n",
      "\n",
      "Number of simulations: 1000. Time needed = 305.56 s\n",
      "Estimated variance: 0.44261372200475996\n",
      "The estimated probability at [-1.5, 1.0] is: 0.733 (using MC)\n",
      "Confidence interval: [ 0.733 +- 0.027466255379683724 ]\twith P = 0.95%\n"
     ]
    }
   ],
   "source": [
    "for walks in [10,100,1000] :\n",
    "    AdaptiveTimeStepMonteCarlo(X0,walks, deltaT=deltaTBoundOrder1,verbose=1)\n",
    "    AdaptiveTimeStepMonteCarlo(X0,walks, deltaT=deltaTBoundOrder2,verbose=1)\n",
    "    BasicMonteCarlo(X0, walks,10000, verbose=1)"
   ]
  },
  {
   "cell_type": "code",
   "execution_count": 14,
   "metadata": {},
   "outputs": [
    {
     "name": "stdout",
     "output_type": "stream",
     "text": [
      "The order one takes only  0.5432648252389056 0.5718129835183318  % of time, and the order two take  0.7330802461055113 0.9081735620585267  % of the time .\n",
      "Order one takes  74.10714285714285 % of the time of Order 2\n"
     ]
    }
   ],
   "source": [
    "print(\"The order one takes only \", 1.66/305.56 *100, 0.17/29.73 *100, \" % of time, and the order two take \", 2.24/305.56 *100,0.27/29.73 *100, \" % of the time .\")\n",
    "print(\"Order one takes \", 1.66/2.24 *100 ,\"% of the time of Order 2\")"
   ]
  },
  {
   "cell_type": "markdown",
   "metadata": {},
   "source": [
    "# Calculation of the Confidence"
   ]
  },
  {
   "cell_type": "code",
   "execution_count": 32,
   "metadata": {},
   "outputs": [
    {
     "name": "stdout",
     "output_type": "stream",
     "text": [
      "\n",
      "Number of simulations: 10. Time needed = 0.03 s\n",
      "Estimated variance: 0.31622776601683794\n",
      "The estimated probability at [-1.5, 1.0] is: 0.9 (using MC)\n",
      "Confidence interval: [ 0.9 +- 0.2262157162740991 ]\twith P = 0.95%\n",
      "\n",
      "Number of simulations: 100. Time needed = 0.15 s\n",
      "Estimated variance: 0.44084400227680803\n",
      "The estimated probability at [-1.5, 1.0] is: 0.74 (using MC)\n",
      "Confidence interval: [ 0.74 +- 0.08747301422885745 ]\twith P = 0.95%\n",
      "\n",
      "Number of simulations: 1000. Time needed = 1.68 s\n",
      "Estimated variance: 0.4393996723622721\n",
      "The estimated probability at [-1.5, 1.0] is: 0.739 (using MC)\n",
      "Confidence interval: [ 0.739 +- 0.02726680853948249 ]\twith P = 0.95%\n",
      "\n",
      "Number of simulations: 10000. Time needed = 16.68 s\n",
      "Estimated variance: 0.45766689403821853\n",
      "The estimated probability at [-1.5, 1.0] is: 0.7014 (using MC)\n",
      "Confidence interval: [ 0.7014 +- 0.008971192240113779 ]\twith P = 0.95%\n",
      "\n",
      "Number of simulations: 100000. Time needed = 163.78 s\n",
      "Estimated variance: 0.45594608285224325\n",
      "The estimated probability at [-1.5, 1.0] is: 0.70522 (using MC)\n",
      "Confidence interval: [ 0.70522 +- 0.0028259653763279546 ]\twith P = 0.95%\n"
     ]
    }
   ],
   "source": [
    "Mean = []\n",
    "Conf = []\n",
    "for walks in [10 ** i for i in range(1,6)] :\n",
    "    mean,_,conf,_ = AdaptiveTimeStepMonteCarlo(X0,walks, deltaT=deltaTBoundOrder1,verbose=1)\n",
    "    Mean.append(mean)\n",
    "    Conf.append(conf)\n"
   ]
  },
  {
   "cell_type": "code",
   "execution_count": 47,
   "metadata": {},
   "outputs": [
    {
     "data": {
      "image/png": "[encoded data removed]",
      "text/plain": [
       "<Figure size 432x288 with 1 Axes>"
      ]
     },
     "metadata": {},
     "output_type": "display_data"
    }
   ],
   "source": [
    "X_axis = np.array([10 ** i for i in range(1,6)])\n",
    "plt.plot(X_axis, -(np.array(Conf)-np.array(Mean)), label= \"Var(N)\")\n",
    "plt.plot(X_axis, 1/X_axis, label= \"N^(-1)\")\n",
    "plt.plot(X_axis, 1/np.sqrt(X_axis), label= \"N ^(-1/2)\")\n",
    "plt.xscale(\"log\")\n",
    "plt.yscale(\"log\")\n",
    "plt.legend()\n",
    "plt.show()\n"
   ]
  },
  {
   "cell_type": "code",
   "execution_count": null,
   "metadata": {},
   "outputs": [],
   "source": []
  }
 ],
 "metadata": {
  "kernelspec": {
   "display_name": "Python 3",
   "language": "python",
   "name": "python3"
  },
  "language_info": {
   "codemirror_mode": {
    "name": "ipython",
    "version": 3
   },
   "file_extension": ".py",
   "mimetype": "text/x-python",
   "name": "python",
   "nbconvert_exporter": "python",
   "pygments_lexer": "ipython3",
   "version": "3.6.5"
  }
 },
 "nbformat": 4,
 "nbformat_minor": 2
}
