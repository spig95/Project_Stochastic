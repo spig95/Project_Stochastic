{
 "cells": [
  {
   "cell_type": "markdown",
   "metadata": {},
   "source": [
    "# Task a"
   ]
  },
  {
   "cell_type": "code",
   "execution_count": 3,
   "metadata": {},
   "outputs": [],
   "source": [
    "from parameters import *\n",
    "from functions import *\n",
    "from PDE_solutions import *\n",
    "\n",
    "walks = 5000\n",
    "N = 200"
   ]
  },
  {
   "cell_type": "code",
   "execution_count": 6,
   "metadata": {},
   "outputs": [
    {
     "name": "stdout",
     "output_type": "stream",
     "text": [
      "1.0000000000000007\n"
     ]
    },
    {
     "data": {
      "image/png": "[encoded data removed]",
      "text/plain": [
       "<Figure size 288x288 with 1 Axes>"
      ]
     },
     "metadata": {},
     "output_type": "display_data"
    }
   ],
   "source": [
    "#np.random.seed(SEED) #scipy is based on the numpy seed\n",
    "X, finalTime = NaiveRandomWalk(X0, 1000, T)\n",
    "\n",
    "#plots the walk\n",
    "plt.figure(figsize=[4,4])\n",
    "X = X.T\n",
    "plt.plot(X[0,:],X[1,:], '.-')\n",
    "plt.xlim([-3,3])\n",
    "plt.ylim([-3,3])\n",
    "\n",
    "#plots the well\n",
    "theta = np.linspace(0,2*np.pi,100)\n",
    "plt.plot(R*np.cos(theta),R*np.sin(theta))\n",
    "print(finalTime)"
   ]
  },
  {
   "cell_type": "code",
   "execution_count": 7,
   "metadata": {},
   "outputs": [
    {
     "data": {
      "text/plain": [
       "[<matplotlib.lines.Line2D at 0x1fe30251940>]"
      ]
     },
     "execution_count": 7,
     "metadata": {},
     "output_type": "execute_result"
    },
    {
     "data": {
      "image/png": "[encoded data removed]",
      "text/plain": [
       "<Figure size 288x288 with 1 Axes>"
      ]
     },
     "metadata": {},
     "output_type": "display_data"
    }
   ],
   "source": [
    "#plots a lot of walks\n",
    "plt.figure(figsize=[4,4])\n",
    "for i in range(300):\n",
    "    X, finalTime = NaiveRandomWalk(X0, 100, T)\n",
    "    X = X.T\n",
    "    plt.plot(X[0,:],X[1,:], '.-')\n",
    "plt.xlim([-2,2])\n",
    "plt.ylim([-2,2])\n",
    "\n",
    "#plots the well\n",
    "theta = np.linspace(0,2*np.pi,100)\n",
    "plt.plot(R*np.cos(theta),R*np.sin(theta))\n"
   ]
  },
  {
   "cell_type": "markdown",
   "metadata": {},
   "source": [
    "# MC simulation"
   ]
  },
  {
   "cell_type": "code",
   "execution_count": 8,
   "metadata": {
    "scrolled": true
   },
   "outputs": [
    {
     "name": "stdout",
     "output_type": "stream",
     "text": [
      "10\n",
      "\n",
      "Number of simulations: 20000. Time needed = 5.72 s\n",
      "Estimated variance: 0.4954147245363871\n",
      "The estimated probability at [-1.5, 1] is: 0.56765 (using MC)\n",
      "Confidence interval: [ 0.56765 +- 0.006866387175725852 ]\twith P = 0.95%\n",
      "20\n",
      "\n",
      "Number of simulations: 20000. Time needed = 10.66 s\n",
      "Estimated variance: 0.4867723876390981\n",
      "The estimated probability at [-1.5, 1] is: 0.6143 (using MC)\n",
      "Confidence interval: [ 0.6143 +- 0.006746605448819443 ]\twith P = 0.95%\n",
      "50\n"
     ]
    },
    {
     "ename": "KeyboardInterrupt",
     "evalue": "",
     "output_type": "error",
     "traceback": [
      "\u001b[1;31m---------------------------------------------------------------------------\u001b[0m",
      "\u001b[1;31mKeyboardInterrupt\u001b[0m                         Traceback (most recent call last)",
      "\u001b[1;32m<ipython-input-8-825efed62e24>\u001b[0m in \u001b[0;36m<module>\u001b[1;34m()\u001b[0m\n\u001b[0;32m      6\u001b[0m \u001b[1;32mfor\u001b[0m \u001b[0mn\u001b[0m \u001b[1;32min\u001b[0m \u001b[0mN\u001b[0m\u001b[1;33m:\u001b[0m\u001b[1;33m\u001b[0m\u001b[0m\n\u001b[0;32m      7\u001b[0m     \u001b[0mprint\u001b[0m\u001b[1;33m(\u001b[0m\u001b[0mn\u001b[0m\u001b[1;33m)\u001b[0m\u001b[1;33m\u001b[0m\u001b[0m\n\u001b[1;32m----> 8\u001b[1;33m     \u001b[0mmean\u001b[0m\u001b[1;33m,\u001b[0m \u001b[0mstd\u001b[0m\u001b[1;33m,\u001b[0m \u001b[0mLB\u001b[0m\u001b[1;33m,\u001b[0m \u001b[0mUB\u001b[0m \u001b[1;33m=\u001b[0m \u001b[0mBasicMonteCarlo\u001b[0m\u001b[1;33m(\u001b[0m\u001b[0mX0\u001b[0m\u001b[1;33m,\u001b[0m\u001b[0mwalks\u001b[0m\u001b[1;33m=\u001b[0m\u001b[0mwalks\u001b[0m\u001b[1;33m,\u001b[0m \u001b[0mN\u001b[0m\u001b[1;33m=\u001b[0m\u001b[0mn\u001b[0m\u001b[1;33m,\u001b[0m \u001b[0mverbose\u001b[0m\u001b[1;33m=\u001b[0m\u001b[1;36m1\u001b[0m\u001b[1;33m)\u001b[0m\u001b[1;33m\u001b[0m\u001b[0m\n\u001b[0m\u001b[0;32m      9\u001b[0m     \u001b[0mprob\u001b[0m\u001b[1;33m.\u001b[0m\u001b[0mappend\u001b[0m\u001b[1;33m(\u001b[0m\u001b[0mmean\u001b[0m\u001b[1;33m)\u001b[0m\u001b[1;33m\u001b[0m\u001b[0m\n\u001b[0;32m     10\u001b[0m     \u001b[0mconf_int\u001b[0m\u001b[1;33m.\u001b[0m\u001b[0mappend\u001b[0m\u001b[1;33m(\u001b[0m\u001b[1;33m[\u001b[0m\u001b[0mLB\u001b[0m\u001b[1;33m,\u001b[0m\u001b[0mUB\u001b[0m\u001b[1;33m]\u001b[0m\u001b[1;33m)\u001b[0m\u001b[1;33m\u001b[0m\u001b[0m\n",
      "\u001b[1;32m~\\Desktop\\Project_Stochastic\\functions.py\u001b[0m in \u001b[0;36mBasicMonteCarlo\u001b[1;34m(X0, walks, N, T, confidence, tol, PDEProb, seed, verbose)\u001b[0m\n\u001b[0;32m     74\u001b[0m         \u001b[1;32mif\u001b[0m \u001b[1;33m(\u001b[0m\u001b[0mverbose\u001b[0m \u001b[1;33m==\u001b[0m \u001b[1;36m2\u001b[0m \u001b[1;32mand\u001b[0m \u001b[0mw\u001b[0m\u001b[1;33m%\u001b[0m\u001b[1;36m100\u001b[0m \u001b[1;33m==\u001b[0m \u001b[1;36m0\u001b[0m\u001b[1;33m)\u001b[0m\u001b[1;33m:\u001b[0m\u001b[1;33m\u001b[0m\u001b[0m\n\u001b[0;32m     75\u001b[0m             \u001b[0mprint\u001b[0m\u001b[1;33m(\u001b[0m\u001b[1;34m'Current walk: '\u001b[0m\u001b[1;33m,\u001b[0m \u001b[0mw\u001b[0m \u001b[1;33m)\u001b[0m\u001b[1;33m\u001b[0m\u001b[0m\n\u001b[1;32m---> 76\u001b[1;33m         \u001b[0m_\u001b[0m\u001b[1;33m,\u001b[0m \u001b[0mcurrentTime\u001b[0m \u001b[1;33m=\u001b[0m \u001b[0mNaiveRandomWalk\u001b[0m\u001b[1;33m(\u001b[0m\u001b[0mX0\u001b[0m\u001b[1;33m,\u001b[0m \u001b[0mN\u001b[0m\u001b[1;33m,\u001b[0m \u001b[0mT\u001b[0m\u001b[1;33m)\u001b[0m\u001b[1;33m\u001b[0m\u001b[0m\n\u001b[0m\u001b[0;32m     77\u001b[0m         \u001b[1;32mif\u001b[0m \u001b[0mcurrentTime\u001b[0m \u001b[1;33m<\u001b[0m \u001b[0mT\u001b[0m \u001b[1;33m-\u001b[0m \u001b[0mtol\u001b[0m\u001b[1;33m:\u001b[0m\u001b[1;33m\u001b[0m\u001b[0m\n\u001b[0;32m     78\u001b[0m                 \u001b[0mpolluted\u001b[0m\u001b[1;33m[\u001b[0m\u001b[0mw\u001b[0m\u001b[1;33m]\u001b[0m \u001b[1;33m=\u001b[0m \u001b[1;36m1\u001b[0m\u001b[1;33m\u001b[0m\u001b[0m\n",
      "\u001b[1;32m~\\Desktop\\Project_Stochastic\\functions.py\u001b[0m in \u001b[0;36mNaiveRandomWalk\u001b[1;34m(X0, N, T)\u001b[0m\n\u001b[0;32m     38\u001b[0m     \u001b[0mfinalT\u001b[0m \u001b[1;33m=\u001b[0m \u001b[0mdt\u001b[0m\u001b[1;33m\u001b[0m\u001b[0m\n\u001b[0;32m     39\u001b[0m     \u001b[1;32mfor\u001b[0m \u001b[0mi\u001b[0m \u001b[1;32min\u001b[0m \u001b[0mrange\u001b[0m\u001b[1;33m(\u001b[0m\u001b[0mN\u001b[0m\u001b[1;33m-\u001b[0m\u001b[1;36m1\u001b[0m\u001b[1;33m)\u001b[0m\u001b[1;33m:\u001b[0m\u001b[1;33m\u001b[0m\u001b[0m\n\u001b[1;32m---> 40\u001b[1;33m         \u001b[0mX0\u001b[0m \u001b[1;33m=\u001b[0m \u001b[0mX0\u001b[0m \u001b[1;33m+\u001b[0m \u001b[0mu\u001b[0m\u001b[1;33m(\u001b[0m\u001b[0mX0\u001b[0m\u001b[1;33m)\u001b[0m \u001b[1;33m*\u001b[0m \u001b[0mdt\u001b[0m \u001b[1;33m+\u001b[0m \u001b[0msigmaSqrtDt\u001b[0m\u001b[1;33m*\u001b[0m \u001b[0mnorm\u001b[0m\u001b[1;33m.\u001b[0m\u001b[0mrvs\u001b[0m\u001b[1;33m(\u001b[0m\u001b[0msize\u001b[0m\u001b[1;33m=\u001b[0m\u001b[1;36m2\u001b[0m\u001b[1;33m)\u001b[0m\u001b[1;33m\u001b[0m\u001b[0m\n\u001b[0m\u001b[0;32m     41\u001b[0m         \u001b[0mX\u001b[0m\u001b[1;33m.\u001b[0m\u001b[0mappend\u001b[0m\u001b[1;33m(\u001b[0m\u001b[0mX0\u001b[0m\u001b[1;33m)\u001b[0m\u001b[1;33m\u001b[0m\u001b[0m\n\u001b[0;32m     42\u001b[0m         \u001b[0mfinalT\u001b[0m \u001b[1;33m=\u001b[0m \u001b[0mfinalT\u001b[0m \u001b[1;33m+\u001b[0m \u001b[0mdt\u001b[0m\u001b[1;33m\u001b[0m\u001b[0m\n",
      "\u001b[1;32m~\\Anaconda3\\lib\\site-packages\\scipy\\stats\\_distn_infrastructure.py\u001b[0m in \u001b[0;36mrvs\u001b[1;34m(self, *args, **kwds)\u001b[0m\n\u001b[0;32m    952\u001b[0m         \u001b[1;31m# by _rvs().\u001b[0m\u001b[1;33m\u001b[0m\u001b[1;33m\u001b[0m\u001b[0m\n\u001b[0;32m    953\u001b[0m         \u001b[0mself\u001b[0m\u001b[1;33m.\u001b[0m\u001b[0m_size\u001b[0m \u001b[1;33m=\u001b[0m \u001b[0msize\u001b[0m\u001b[1;33m\u001b[0m\u001b[0m\n\u001b[1;32m--> 954\u001b[1;33m         \u001b[0mvals\u001b[0m \u001b[1;33m=\u001b[0m \u001b[0mself\u001b[0m\u001b[1;33m.\u001b[0m\u001b[0m_rvs\u001b[0m\u001b[1;33m(\u001b[0m\u001b[1;33m*\u001b[0m\u001b[0margs\u001b[0m\u001b[1;33m)\u001b[0m\u001b[1;33m\u001b[0m\u001b[0m\n\u001b[0m\u001b[0;32m    955\u001b[0m \u001b[1;33m\u001b[0m\u001b[0m\n\u001b[0;32m    956\u001b[0m         \u001b[0mvals\u001b[0m \u001b[1;33m=\u001b[0m \u001b[0mvals\u001b[0m \u001b[1;33m*\u001b[0m \u001b[0mscale\u001b[0m \u001b[1;33m+\u001b[0m \u001b[0mloc\u001b[0m\u001b[1;33m\u001b[0m\u001b[0m\n",
      "\u001b[1;32m~\\Anaconda3\\lib\\site-packages\\scipy\\stats\\_continuous_distns.py\u001b[0m in \u001b[0;36m_rvs\u001b[1;34m(self)\u001b[0m\n\u001b[0;32m    137\u001b[0m     \"\"\"\n\u001b[0;32m    138\u001b[0m     \u001b[1;32mdef\u001b[0m \u001b[0m_rvs\u001b[0m\u001b[1;33m(\u001b[0m\u001b[0mself\u001b[0m\u001b[1;33m)\u001b[0m\u001b[1;33m:\u001b[0m\u001b[1;33m\u001b[0m\u001b[0m\n\u001b[1;32m--> 139\u001b[1;33m         \u001b[1;32mreturn\u001b[0m \u001b[0mself\u001b[0m\u001b[1;33m.\u001b[0m\u001b[0m_random_state\u001b[0m\u001b[1;33m.\u001b[0m\u001b[0mstandard_normal\u001b[0m\u001b[1;33m(\u001b[0m\u001b[0mself\u001b[0m\u001b[1;33m.\u001b[0m\u001b[0m_size\u001b[0m\u001b[1;33m)\u001b[0m\u001b[1;33m\u001b[0m\u001b[0m\n\u001b[0m\u001b[0;32m    140\u001b[0m \u001b[1;33m\u001b[0m\u001b[0m\n\u001b[0;32m    141\u001b[0m     \u001b[1;32mdef\u001b[0m \u001b[0m_pdf\u001b[0m\u001b[1;33m(\u001b[0m\u001b[0mself\u001b[0m\u001b[1;33m,\u001b[0m \u001b[0mx\u001b[0m\u001b[1;33m)\u001b[0m\u001b[1;33m:\u001b[0m\u001b[1;33m\u001b[0m\u001b[0m\n",
      "\u001b[1;31mKeyboardInterrupt\u001b[0m: "
     ]
    }
   ],
   "source": [
    "walks = 20000\n",
    "N = [10,20,50,100,200,500,1000,2000,5000,10000]\n",
    "X0 = [-1.5,1]\n",
    "prob=[]\n",
    "conf_int=[]\n",
    "for n in N:\n",
    "    print(n)\n",
    "    mean, std, LB, UB = BasicMonteCarlo(X0,walks=walks, N=n, verbose=1)\n",
    "    prob.append(mean)\n",
    "    conf_int.append([LB,UB])\n",
    "prob, conf_int"
   ]
  },
  {
   "cell_type": "code",
   "execution_count": 5,
   "metadata": {},
   "outputs": [
    {
     "name": "stdout",
     "output_type": "stream",
     "text": [
      "10\n",
      "\n",
      "Number of simulations: 20000. Time needed = 10.42 s\n",
      "Estimated variance: 0.2295408339483903\n",
      "The estimated probability at [-1.5, 2.0] is: 0.0558 (using MC)\n",
      "Confidence interval: [ 0.0558 +- 0.0031814077387457423 ]\twith P = 0.95%\n",
      "20\n",
      "\n",
      "Number of simulations: 20000. Time needed = 21.18 s\n",
      "Estimated variance: 0.24653202409006647\n",
      "The estimated probability at [-1.5, 2.0] is: 0.065 (using MC)\n",
      "Confidence interval: [ 0.065 +- 0.0034169035452103202 ]\twith P = 0.95%\n",
      "50\n",
      "\n",
      "Number of simulations: 20000. Time needed = 51.09 s\n",
      "Estimated variance: 0.26508472418370277\n",
      "The estimated probability at [-1.5, 2.0] is: 0.07605 (using MC)\n",
      "Confidence interval: [ 0.07605 +- 0.0036740416876368392 ]\twith P = 0.95%\n",
      "100\n",
      "\n",
      "Number of simulations: 20000. Time needed = 102.96 s\n",
      "Estimated variance: 0.27573790375930995\n",
      "The estimated probability at [-1.5, 2.0] is: 0.0829 (using MC)\n",
      "Confidence interval: [ 0.0829 +- 0.003821693446851529 ]\twith P = 0.95%\n",
      "200\n",
      "\n",
      "Number of simulations: 20000. Time needed = 228.55 s\n",
      "Estimated variance: 0.2835926325542713\n",
      "The estimated probability at [-1.5, 2.0] is: 0.0882 (using MC)\n",
      "Confidence interval: [ 0.0882 +- 0.003930559022288338 ]\twith P = 0.95%\n",
      "500\n",
      "\n",
      "Number of simulations: 20000. Time needed = 583.05 s\n",
      "Estimated variance: 0.29064979161366733\n",
      "The estimated probability at [-1.5, 2.0] is: 0.09315 (using MC)\n",
      "Confidence interval: [ 0.09315 +- 0.0040283703792435566 ]\twith P = 0.95%\n",
      "1000\n",
      "\n",
      "Number of simulations: 20000. Time needed = 1166.65 s\n",
      "Estimated variance: 0.28980803462783217\n",
      "The estimated probability at [-1.5, 2.0] is: 0.09255 (using MC)\n",
      "Confidence interval: [ 0.09255 +- 0.0040167037309055825 ]\twith P = 0.95%\n",
      "2000\n",
      "\n",
      "Number of simulations: 20000. Time needed = 2386.02 s\n",
      "Estimated variance: 0.29528310077869385\n",
      "The estimated probability at [-1.5, 2.0] is: 0.0965 (using MC)\n",
      "Confidence interval: [ 0.0965 +- 0.004092587474651202 ]\twith P = 0.95%\n",
      "5000\n",
      "\n",
      "Number of simulations: 20000. Time needed = 5904.84 s\n",
      "Estimated variance: 0.2955562174509\n",
      "The estimated probability at [-1.5, 2.0] is: 0.0967 (using MC)\n",
      "Confidence interval: [ 0.0967 +- 0.00409637283815098 ]\twith P = 0.95%\n",
      "10000\n",
      "\n",
      "Number of simulations: 20000. Time needed = 10475.87 s\n",
      "Estimated variance: 0.29610128976194944\n",
      "The estimated probability at [-1.5, 2.0] is: 0.0971 (using MC)\n",
      "Confidence interval: [ 0.0971 +- 0.0041039274733708775 ]\twith P = 0.95%\n"
     ]
    },
    {
     "data": {
      "text/plain": [
       "([0.0558,\n",
       "  0.065,\n",
       "  0.07605,\n",
       "  0.0829,\n",
       "  0.0882,\n",
       "  0.09315,\n",
       "  0.09255,\n",
       "  0.0965,\n",
       "  0.0967,\n",
       "  0.0971],\n",
       " [[0.05261859226125426, 0.058981407738745745],\n",
       "  [0.06158309645478968, 0.06841690354521032],\n",
       "  [0.07237595831236317, 0.07972404168763685],\n",
       "  [0.07907830655314847, 0.08672169344685153],\n",
       "  [0.08426944097771166, 0.09213055902228834],\n",
       "  [0.08912162962075644, 0.09717837037924355],\n",
       "  [0.08853329626909441, 0.09656670373090558],\n",
       "  [0.0924074125253488, 0.1005925874746512],\n",
       "  [0.09260362716184901, 0.10079637283815097],\n",
       "  [0.09299607252662913, 0.10120392747337088]])"
      ]
     },
     "execution_count": 5,
     "metadata": {},
     "output_type": "execute_result"
    }
   ],
   "source": [
    "walks = 20000\n",
    "N = [10,20,50,100,200,500,1000,2000,5000,10000]\n",
    "X0 = [-1.5, 2.]\n",
    "prob=[]\n",
    "conf_int=[]\n",
    "for n in N:\n",
    "    print(n)\n",
    "    mean, std, LB, UB = BasicMonteCarlo(X0,walks=walks, N=n, verbose=1)\n",
    "    prob.append(mean)\n",
    "    conf_int.append([LB,UB])\n",
    "prob, conf_int"
   ]
  },
  {
   "cell_type": "code",
   "execution_count": 9,
   "metadata": {},
   "outputs": [
    {
     "name": "stdout",
     "output_type": "stream",
     "text": [
      "10\n"
     ]
    },
    {
     "ename": "KeyboardInterrupt",
     "evalue": "",
     "output_type": "error",
     "traceback": [
      "\u001b[1;31m---------------------------------------------------------------------------\u001b[0m",
      "\u001b[1;31mKeyboardInterrupt\u001b[0m                         Traceback (most recent call last)",
      "\u001b[1;32m<ipython-input-9-39c0fbeb1570>\u001b[0m in \u001b[0;36m<module>\u001b[1;34m()\u001b[0m\n\u001b[0;32m      6\u001b[0m \u001b[1;32mfor\u001b[0m \u001b[0mn\u001b[0m \u001b[1;32min\u001b[0m \u001b[0mN\u001b[0m\u001b[1;33m:\u001b[0m\u001b[1;33m\u001b[0m\u001b[0m\n\u001b[0;32m      7\u001b[0m     \u001b[0mprint\u001b[0m\u001b[1;33m(\u001b[0m\u001b[0mn\u001b[0m\u001b[1;33m)\u001b[0m\u001b[1;33m\u001b[0m\u001b[0m\n\u001b[1;32m----> 8\u001b[1;33m     \u001b[0mmean\u001b[0m\u001b[1;33m,\u001b[0m \u001b[0mstd\u001b[0m\u001b[1;33m,\u001b[0m \u001b[0mLB\u001b[0m\u001b[1;33m,\u001b[0m \u001b[0mUB\u001b[0m \u001b[1;33m=\u001b[0m \u001b[0mBasicMonteCarlo\u001b[0m\u001b[1;33m(\u001b[0m\u001b[0mX0\u001b[0m\u001b[1;33m,\u001b[0m\u001b[0mwalks\u001b[0m\u001b[1;33m=\u001b[0m\u001b[0mwalks\u001b[0m\u001b[1;33m,\u001b[0m \u001b[0mN\u001b[0m\u001b[1;33m=\u001b[0m\u001b[0mn\u001b[0m\u001b[1;33m,\u001b[0m \u001b[0mverbose\u001b[0m\u001b[1;33m=\u001b[0m\u001b[1;36m1\u001b[0m\u001b[1;33m)\u001b[0m\u001b[1;33m\u001b[0m\u001b[0m\n\u001b[0m\u001b[0;32m      9\u001b[0m     \u001b[0mprob\u001b[0m\u001b[1;33m.\u001b[0m\u001b[0mappend\u001b[0m\u001b[1;33m(\u001b[0m\u001b[0mmean\u001b[0m\u001b[1;33m)\u001b[0m\u001b[1;33m\u001b[0m\u001b[0m\n\u001b[0;32m     10\u001b[0m     \u001b[0mconf_int\u001b[0m\u001b[1;33m.\u001b[0m\u001b[0mappend\u001b[0m\u001b[1;33m(\u001b[0m\u001b[1;33m[\u001b[0m\u001b[0mLB\u001b[0m\u001b[1;33m,\u001b[0m\u001b[0mUB\u001b[0m\u001b[1;33m]\u001b[0m\u001b[1;33m)\u001b[0m\u001b[1;33m\u001b[0m\u001b[0m\n",
      "\u001b[1;32m~\\Desktop\\Project_Stochastic\\functions.py\u001b[0m in \u001b[0;36mBasicMonteCarlo\u001b[1;34m(X0, walks, N, T, confidence, tol, PDEProb, seed, verbose)\u001b[0m\n\u001b[0;32m     74\u001b[0m         \u001b[1;32mif\u001b[0m \u001b[1;33m(\u001b[0m\u001b[0mverbose\u001b[0m \u001b[1;33m==\u001b[0m \u001b[1;36m2\u001b[0m \u001b[1;32mand\u001b[0m \u001b[0mw\u001b[0m\u001b[1;33m%\u001b[0m\u001b[1;36m100\u001b[0m \u001b[1;33m==\u001b[0m \u001b[1;36m0\u001b[0m\u001b[1;33m)\u001b[0m\u001b[1;33m:\u001b[0m\u001b[1;33m\u001b[0m\u001b[0m\n\u001b[0;32m     75\u001b[0m             \u001b[0mprint\u001b[0m\u001b[1;33m(\u001b[0m\u001b[1;34m'Current walk: '\u001b[0m\u001b[1;33m,\u001b[0m \u001b[0mw\u001b[0m \u001b[1;33m)\u001b[0m\u001b[1;33m\u001b[0m\u001b[0m\n\u001b[1;32m---> 76\u001b[1;33m         \u001b[0m_\u001b[0m\u001b[1;33m,\u001b[0m \u001b[0mcurrentTime\u001b[0m \u001b[1;33m=\u001b[0m \u001b[0mNaiveRandomWalk\u001b[0m\u001b[1;33m(\u001b[0m\u001b[0mX0\u001b[0m\u001b[1;33m,\u001b[0m \u001b[0mN\u001b[0m\u001b[1;33m,\u001b[0m \u001b[0mT\u001b[0m\u001b[1;33m)\u001b[0m\u001b[1;33m\u001b[0m\u001b[0m\n\u001b[0m\u001b[0;32m     77\u001b[0m         \u001b[1;32mif\u001b[0m \u001b[0mcurrentTime\u001b[0m \u001b[1;33m<\u001b[0m \u001b[0mT\u001b[0m \u001b[1;33m-\u001b[0m \u001b[0mtol\u001b[0m\u001b[1;33m:\u001b[0m\u001b[1;33m\u001b[0m\u001b[0m\n\u001b[0;32m     78\u001b[0m                 \u001b[0mpolluted\u001b[0m\u001b[1;33m[\u001b[0m\u001b[0mw\u001b[0m\u001b[1;33m]\u001b[0m \u001b[1;33m=\u001b[0m \u001b[1;36m1\u001b[0m\u001b[1;33m\u001b[0m\u001b[0m\n",
      "\u001b[1;32m~\\Desktop\\Project_Stochastic\\functions.py\u001b[0m in \u001b[0;36mNaiveRandomWalk\u001b[1;34m(X0, N, T)\u001b[0m\n\u001b[0;32m     38\u001b[0m     \u001b[0mfinalT\u001b[0m \u001b[1;33m=\u001b[0m \u001b[0mdt\u001b[0m\u001b[1;33m\u001b[0m\u001b[0m\n\u001b[0;32m     39\u001b[0m     \u001b[1;32mfor\u001b[0m \u001b[0mi\u001b[0m \u001b[1;32min\u001b[0m \u001b[0mrange\u001b[0m\u001b[1;33m(\u001b[0m\u001b[0mN\u001b[0m\u001b[1;33m-\u001b[0m\u001b[1;36m1\u001b[0m\u001b[1;33m)\u001b[0m\u001b[1;33m:\u001b[0m\u001b[1;33m\u001b[0m\u001b[0m\n\u001b[1;32m---> 40\u001b[1;33m         \u001b[0mX0\u001b[0m \u001b[1;33m=\u001b[0m \u001b[0mX0\u001b[0m \u001b[1;33m+\u001b[0m \u001b[0mu\u001b[0m\u001b[1;33m(\u001b[0m\u001b[0mX0\u001b[0m\u001b[1;33m)\u001b[0m \u001b[1;33m*\u001b[0m \u001b[0mdt\u001b[0m \u001b[1;33m+\u001b[0m \u001b[0msigmaSqrtDt\u001b[0m\u001b[1;33m*\u001b[0m \u001b[0mnorm\u001b[0m\u001b[1;33m.\u001b[0m\u001b[0mrvs\u001b[0m\u001b[1;33m(\u001b[0m\u001b[0msize\u001b[0m\u001b[1;33m=\u001b[0m\u001b[1;36m2\u001b[0m\u001b[1;33m)\u001b[0m\u001b[1;33m\u001b[0m\u001b[0m\n\u001b[0m\u001b[0;32m     41\u001b[0m         \u001b[0mX\u001b[0m\u001b[1;33m.\u001b[0m\u001b[0mappend\u001b[0m\u001b[1;33m(\u001b[0m\u001b[0mX0\u001b[0m\u001b[1;33m)\u001b[0m\u001b[1;33m\u001b[0m\u001b[0m\n\u001b[0;32m     42\u001b[0m         \u001b[0mfinalT\u001b[0m \u001b[1;33m=\u001b[0m \u001b[0mfinalT\u001b[0m \u001b[1;33m+\u001b[0m \u001b[0mdt\u001b[0m\u001b[1;33m\u001b[0m\u001b[0m\n",
      "\u001b[1;32m~\\Anaconda3\\lib\\site-packages\\scipy\\stats\\_distn_infrastructure.py\u001b[0m in \u001b[0;36mrvs\u001b[1;34m(self, *args, **kwds)\u001b[0m\n\u001b[0;32m    952\u001b[0m         \u001b[1;31m# by _rvs().\u001b[0m\u001b[1;33m\u001b[0m\u001b[1;33m\u001b[0m\u001b[0m\n\u001b[0;32m    953\u001b[0m         \u001b[0mself\u001b[0m\u001b[1;33m.\u001b[0m\u001b[0m_size\u001b[0m \u001b[1;33m=\u001b[0m \u001b[0msize\u001b[0m\u001b[1;33m\u001b[0m\u001b[0m\n\u001b[1;32m--> 954\u001b[1;33m         \u001b[0mvals\u001b[0m \u001b[1;33m=\u001b[0m \u001b[0mself\u001b[0m\u001b[1;33m.\u001b[0m\u001b[0m_rvs\u001b[0m\u001b[1;33m(\u001b[0m\u001b[1;33m*\u001b[0m\u001b[0margs\u001b[0m\u001b[1;33m)\u001b[0m\u001b[1;33m\u001b[0m\u001b[0m\n\u001b[0m\u001b[0;32m    955\u001b[0m \u001b[1;33m\u001b[0m\u001b[0m\n\u001b[0;32m    956\u001b[0m         \u001b[0mvals\u001b[0m \u001b[1;33m=\u001b[0m \u001b[0mvals\u001b[0m \u001b[1;33m*\u001b[0m \u001b[0mscale\u001b[0m \u001b[1;33m+\u001b[0m \u001b[0mloc\u001b[0m\u001b[1;33m\u001b[0m\u001b[0m\n",
      "\u001b[1;32m~\\Anaconda3\\lib\\site-packages\\scipy\\stats\\_continuous_distns.py\u001b[0m in \u001b[0;36m_rvs\u001b[1;34m(self)\u001b[0m\n\u001b[0;32m    137\u001b[0m     \"\"\"\n\u001b[0;32m    138\u001b[0m     \u001b[1;32mdef\u001b[0m \u001b[0m_rvs\u001b[0m\u001b[1;33m(\u001b[0m\u001b[0mself\u001b[0m\u001b[1;33m)\u001b[0m\u001b[1;33m:\u001b[0m\u001b[1;33m\u001b[0m\u001b[0m\n\u001b[1;32m--> 139\u001b[1;33m         \u001b[1;32mreturn\u001b[0m \u001b[0mself\u001b[0m\u001b[1;33m.\u001b[0m\u001b[0m_random_state\u001b[0m\u001b[1;33m.\u001b[0m\u001b[0mstandard_normal\u001b[0m\u001b[1;33m(\u001b[0m\u001b[0mself\u001b[0m\u001b[1;33m.\u001b[0m\u001b[0m_size\u001b[0m\u001b[1;33m)\u001b[0m\u001b[1;33m\u001b[0m\u001b[0m\n\u001b[0m\u001b[0;32m    140\u001b[0m \u001b[1;33m\u001b[0m\u001b[0m\n\u001b[0;32m    141\u001b[0m     \u001b[1;32mdef\u001b[0m \u001b[0m_pdf\u001b[0m\u001b[1;33m(\u001b[0m\u001b[0mself\u001b[0m\u001b[1;33m,\u001b[0m \u001b[0mx\u001b[0m\u001b[1;33m)\u001b[0m\u001b[1;33m:\u001b[0m\u001b[1;33m\u001b[0m\u001b[0m\n",
      "\u001b[1;31mKeyboardInterrupt\u001b[0m: "
     ]
    }
   ],
   "source": [
    "walks = 20000\n",
    "N = [10,20,50,100,200,500,1000,2000,5000,10000]\n",
    "X0 = [-2, 0]\n",
    "prob=[]\n",
    "conf_int=[]\n",
    "for n in N:\n",
    "    print(n)\n",
    "    mean, std, LB, UB = BasicMonteCarlo(X0,walks=walks, N=n, verbose=1)\n",
    "    prob.append(mean)\n",
    "    conf_int.append([LB,UB])\n",
    "prob, conf_int"
   ]
  },
  {
   "cell_type": "code",
   "execution_count": 20,
   "metadata": {},
   "outputs": [],
   "source": [
    "def MCWithPilotRun(X0, walks_pilot, N, precision, T = 1, confidence = 0.95, \n",
    "                    seed = 1, tol = 1e-6, PDEProb = -1, verbose = 2):\n",
    "\n",
    "    # pilot run\n",
    "    _, std, _, _ = BasicMonteCarlo(X0 = X0, walks = walks_pilot, N = N, T = T, confidence = confidence, tol = tol,\n",
    "                    PDEProb = PDEProb, seed = seed, verbose = (verbose >=2)*2 )\n",
    "\n",
    "    # compute the necessary walks\n",
    "    alfa = 1 - confidence\n",
    "    C_alfa2 = st.norm.ppf(1-alfa/2) # a lot of walks, norm is good approx. of t\n",
    "    walks = int( (2*C_alfa2*std/precision)**2 )\n",
    "    if verbose>=2: print('\\n')\n",
    "    if verbose>=1: \n",
    "        print('Pilot run terminated.')\n",
    "        print(f'Calling MC method with {walks} walks...\\n')\n",
    "\n",
    "    # MC simulation\n",
    "    start = time.time()\n",
    "    mean, std, LB, UB = BasicMonteCarlo(X0 = X0, walks = walks, N = N, T = T, confidence = confidence, tol = tol,\n",
    "                    PDEProb = PDEProb, seed = 2*seed, verbose = (verbose >=2)*2 )\n",
    "    end = time.time()\n",
    "    \n",
    "    if verbose == 1: #if it is >1 it has already been printed\n",
    "        print(f'\\nNumber of simulations: %d. Time needed = %.2f s' % (walks, end-start))\n",
    "        print(f'Estimated variance: {std}' % (std))\n",
    "        print(f'The estimated probability at {X0} is: {mean} (using MC)')\n",
    "        print(f'Confidence interval: [ {mean} +- {UB-mean} ]\\twith P = {confidence}%')\n",
    "        if PDEProb != -1:\n",
    "            print(f'\\nPDE result at {X0} is:  {PDEProb}')\n",
    "\n",
    "    return mean, std, LB, UB"
   ]
  },
  {
   "cell_type": "code",
   "execution_count": 24,
   "metadata": {},
   "outputs": [
    {
     "name": "stdout",
     "output_type": "stream",
     "text": [
      "ciao {4}\n"
     ]
    }
   ],
   "source": [
    "print(f'ciao '\n",
    "      '{4}' \n",
    "     )"
   ]
  },
  {
   "cell_type": "code",
   "execution_count": null,
   "metadata": {},
   "outputs": [],
   "source": []
  }
 ],
 "metadata": {
  "kernelspec": {
   "display_name": "Python 3",
   "language": "python",
   "name": "python3"
  },
  "language_info": {
   "codemirror_mode": {
    "name": "ipython",
    "version": 3
   },
   "file_extension": ".py",
   "mimetype": "text/x-python",
   "name": "python",
   "nbconvert_exporter": "python",
   "pygments_lexer": "ipython3",
   "version": "3.6.5"
  }
 },
 "nbformat": 4,
 "nbformat_minor": 2
}
