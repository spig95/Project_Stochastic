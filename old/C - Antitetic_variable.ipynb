{
 "cells": [
  {
   "cell_type": "code",
   "execution_count": 1,
   "metadata": {},
   "outputs": [],
   "source": [
    "from parameters import *\n",
    "from functions import *\n",
    "from PDE_solutions import *\n",
    "walks = 1000\n",
    "N = 200\n",
    "X0 = [-1.5, 1]\n",
    "PDEProb = 0.7173050315908374"
   ]
  },
  {
   "cell_type": "markdown",
   "metadata": {},
   "source": [
    "# Antithetic variable"
   ]
  },
  {
   "cell_type": "code",
   "execution_count": 4,
   "metadata": {},
   "outputs": [
    {
     "name": "stdout",
     "output_type": "stream",
     "text": [
      "Current walk:  0\n",
      "Current walk:  100\n",
      "Current walk:  200\n",
      "Current walk:  300\n",
      "Current walk:  400\n",
      "Current walk:  500\n",
      "Current walk:  600\n",
      "Current walk:  700\n",
      "Current walk:  800\n",
      "Current walk:  900\n",
      "Current walk:  1000\n",
      "Current walk:  1100\n",
      "Current walk:  1200\n",
      "Current walk:  1300\n",
      "Current walk:  1400\n",
      "Current walk:  1500\n",
      "Current walk:  1600\n",
      "Current walk:  1700\n",
      "Current walk:  1800\n",
      "Current walk:  1900\n",
      "Current walk:  2000\n",
      "Current walk:  2100\n",
      "Current walk:  2200\n",
      "Current walk:  2300\n",
      "Current walk:  2400\n",
      "Current walk:  2500\n",
      "Current walk:  2600\n",
      "Current walk:  2700\n",
      "Current walk:  2800\n",
      "Current walk:  2900\n",
      "Current walk:  3000\n",
      "Current walk:  3100\n",
      "Current walk:  3200\n",
      "Current walk:  3300\n",
      "Current walk:  3400\n",
      "Current walk:  3500\n",
      "Current walk:  3600\n",
      "Current walk:  3700\n",
      "Current walk:  3800\n",
      "Current walk:  3900\n",
      "Current walk:  4000\n",
      "Current walk:  4100\n",
      "Current walk:  4200\n",
      "Current walk:  4300\n",
      "Current walk:  4400\n",
      "Current walk:  4500\n",
      "Current walk:  4600\n",
      "Current walk:  4700\n",
      "Current walk:  4800\n",
      "Current walk:  4900\n",
      "Current walk:  5000\n",
      "Current walk:  5100\n",
      "Current walk:  5200\n",
      "Current walk:  5300\n",
      "Current walk:  5400\n",
      "Current walk:  5500\n",
      "Current walk:  5600\n",
      "Current walk:  5700\n",
      "Current walk:  5800\n",
      "Current walk:  5900\n",
      "Current walk:  6000\n",
      "Current walk:  6100\n",
      "Current walk:  6200\n",
      "Current walk:  6300\n",
      "Current walk:  6400\n",
      "Current walk:  6500\n",
      "Current walk:  6600\n",
      "Current walk:  6700\n",
      "Current walk:  6800\n",
      "Current walk:  6900\n",
      "Current walk:  7000\n",
      "Current walk:  7100\n",
      "Current walk:  7200\n",
      "Current walk:  7300\n",
      "Current walk:  7400\n",
      "Current walk:  7500\n",
      "Current walk:  7600\n",
      "Current walk:  7700\n",
      "Current walk:  7800\n",
      "Current walk:  7900\n",
      "Current walk:  8000\n",
      "Current walk:  8100\n",
      "Current walk:  8200\n",
      "Current walk:  8300\n",
      "Current walk:  8400\n",
      "Current walk:  8500\n",
      "Current walk:  8600\n",
      "Current walk:  8700\n",
      "Current walk:  8800\n",
      "Current walk:  8900\n",
      "Current walk:  9000\n",
      "Current walk:  9100\n",
      "Current walk:  9200\n",
      "Current walk:  9300\n",
      "Current walk:  9400\n",
      "Current walk:  9500\n",
      "Current walk:  9600\n",
      "Current walk:  9700\n",
      "Current walk:  9800\n",
      "Current walk:  9900\n",
      "\n",
      "Number of simulations: 10000. Time needed = 275.81 s\n",
      "Estimated variance: 0.45475077770904654\n",
      "The estimated probability at [-1.5, 1] is: 0.7079 (using MC)\n",
      "Confidence interval: [ 0.7079 +- 0.008914030490980718 ]\twith P = {confidence}%\n",
      "\n",
      "PDE result at [-1.5, 1] is:  0.7173050315908374\n"
     ]
    },
    {
     "data": {
      "text/plain": [
       "(0.7079, 0.45475077770904654, 0.6989859695090193, 0.7168140304909807)"
      ]
     },
     "execution_count": 4,
     "metadata": {},
     "output_type": "execute_result"
    }
   ],
   "source": [
    "AntitheticVar(X0, 10000,  N = 1000, T = 1, confidence = 0.95,\n",
    "                    PDEProb = PDEProb, seed = 1, verbose = 2)"
   ]
  },
  {
   "cell_type": "code",
   "execution_count": 4,
   "metadata": {},
   "outputs": [],
   "source": [
    "def AntVar(X0, N, T):\n",
    "    ''' X0: initial position\n",
    "        N: number of steps\n",
    "        T: Final time\n",
    "        Generate 2 different chains, in one we update using +Z, in the other one -Z. Where Z is the standard normal'''\n",
    "    X_A = [X0]\n",
    "    X_B = [X0]\n",
    "    r_A = R + 1000\n",
    "    r_B = R + 1000\n",
    "    \n",
    "    dt = T/N\n",
    "    finalT_A = 0\n",
    "    finalT_B = 0\n",
    "    \n",
    "    for i in range(N-1):\n",
    "        Z = norm.rvs(size=2)\n",
    "        \n",
    "        #update A\n",
    "        if(r_A > R):\n",
    "            X_temp = X_A[-1] + u(X_A[-1]) * dt + sigma * np.sqrt(dt) * Z \n",
    "            X_A.append(X_temp)\n",
    "            finalT_A = finalT_A + dt\n",
    "            r_A = np.sqrt( X_temp[0]**2 + X_temp[1]**2 )\n",
    "        \n",
    "        #update B\n",
    "        if(r_B > R):\n",
    "            X_temp = X_B[-1] + u(X_B[-1]) * dt - sigma * np.sqrt(dt) * Z #minus!!\n",
    "            X_B.append(X_temp)\n",
    "            finalT_B = finalT_B + dt\n",
    "            r_B = np.sqrt( X_temp[0]**2 + X_temp[1]**2 )\n",
    "            \n",
    "        \n",
    "\n",
    "    \n",
    "    return np.asarray(X_A), finalT_A, np.asarray(X_B), finalT_B "
   ]
  },
  {
   "cell_type": "markdown",
   "metadata": {},
   "source": [
    "# Check if there is some NEGATIVE correlation(heuristic)"
   ]
  },
  {
   "cell_type": "code",
   "execution_count": 5,
   "metadata": {},
   "outputs": [
    {
     "name": "stdout",
     "output_type": "stream",
     "text": [
      "0.41500000000000026\n",
      "0.9950000000000008\n"
     ]
    },
    {
     "data": {
      "image/png": "[encoded data removed]",
      "text/plain": [
       "<Figure size 288x288 with 1 Axes>"
      ]
     },
     "metadata": {},
     "output_type": "display_data"
    }
   ],
   "source": [
    "X_A, finalTimeA, X_B, finalTimeB = AntVar(X0, N, T)\n",
    "\n",
    "#plots the walk\n",
    "plt.figure(figsize=[4,4])\n",
    "X_A = X_A.T\n",
    "plt.plot(X_A[0,:],X_A[1,:], '.-')\n",
    "X_B = X_B.T\n",
    "plt.plot(X_B[0,:],X_B[1,:], '.-')\n",
    "plt.xlim([-4,4])\n",
    "plt.ylim([-4,4])\n",
    "\n",
    "#plots the well\n",
    "theta = np.linspace(0,2*np.pi,100)\n",
    "plt.plot(R*np.cos(theta),R*np.sin(theta))\n",
    "print(finalTimeA)\n",
    "print(finalTimeB)"
   ]
  },
  {
   "cell_type": "code",
   "execution_count": 7,
   "metadata": {},
   "outputs": [
    {
     "name": "stdout",
     "output_type": "stream",
     "text": [
      "Current walk:  0\n",
      "Current walk:  200\n",
      "Current walk:  400\n",
      "Current walk:  600\n",
      "Current walk:  800\n",
      "\n",
      "\n",
      "\n",
      "Number of simulations: 1000. Time needed = 13.174128770828247\n",
      "Estimated variance: 0.45536618051668964\n",
      "The estimated probability at [-1.5, 1] is: 0.707 (using MC), 0.7173050315908374 (using the PDE)\n",
      "Confidence interval: [ 0.707 +- 0.028257605183799606 ]\twith P = 0.95%\n"
     ]
    }
   ],
   "source": [
    "polluted = np.zeros(walks)\n",
    "np.random.seed(SEED) #scipy is based on the numpy seed\n",
    "\n",
    "start = time.time()\n",
    "for w in range(int(walks/2)):\n",
    "    if (w%100 == 0):\n",
    "        print('Current walk: ', w*2 )\n",
    "    _, finalTimeA, _, finalTimeB = AntVar(X0, N, T)\n",
    "    if finalTimeA < T - 1e-2:\n",
    "            polluted[2*w] = 1\n",
    "    if finalTimeB < T - 1e-2:\n",
    "            polluted[2*w+1] = 1\n",
    "end = time.time()\n",
    "\n",
    "confidence = 0.95\n",
    "mean = polluted.mean()\n",
    "std = np.std(polluted, ddof = 1)\n",
    "LB, UB = CI(mean, std, walks, confidence)\n",
    "\n",
    "print(f'\\n\\n\\nNumber of simulations: {walks}. Time needed = {end - start}')\n",
    "print(f'Estimated variance: {std}')\n",
    "print(f'The estimated probability at {X0} is: {mean} (using MC), {PDEProb} (using the PDE)')\n",
    "print(f'Confidence interval: [ {mean} +- {UB-mean} ]\\twith P = {confidence}%')\n"
   ]
  }
 ],
 "metadata": {
  "kernelspec": {
   "display_name": "Python 3",
   "language": "python",
   "name": "python3"
  },
  "language_info": {
   "codemirror_mode": {
    "name": "ipython",
    "version": 3
   },
   "file_extension": ".py",
   "mimetype": "text/x-python",
   "name": "python",
   "nbconvert_exporter": "python",
   "pygments_lexer": "ipython3",
   "version": "3.6.5"
  }
 },
 "nbformat": 4,
 "nbformat_minor": 2
}
