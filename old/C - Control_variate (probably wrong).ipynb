{
 "cells": [
  {
   "cell_type": "code",
   "execution_count": 1,
   "metadata": {},
   "outputs": [],
   "source": [
    "from parameters import *\n",
    "from functions import *\n",
    "from PDE_solutions import *\n",
    "walks = 5000\n",
    "N = 200"
   ]
  },
  {
   "cell_type": "markdown",
   "metadata": {},
   "source": [
    "# Control variate\n",
    "\n",
    "I think that is wrong, since we don't know muY"
   ]
  },
  {
   "cell_type": "code",
   "execution_count": 2,
   "metadata": {},
   "outputs": [],
   "source": [
    "#define another velocity field\n",
    "def u_control(X) :\n",
    "    return np.array([u1,u2])\n",
    "\n",
    "def ControlVariate(X0, N, T):\n",
    "    ''' X0: initial position\n",
    "        N: number of steps\n",
    "        T: Final time'''\n",
    "    X = []\n",
    "    dt = T/N\n",
    "    sigmaSqrtDt = sigma * np.sqrt(dt)\n",
    "    X.append(X0)\n",
    "    finalT = dt\n",
    "    for i in range(N-1):\n",
    "        X0 = X0 + u_control(X0) * dt + sigmaSqrtDt* norm.rvs(size=2)\n",
    "        X.append(X0)\n",
    "        finalT = finalT + dt\n",
    "        r = np.sqrt( X0[0]**2 + X0[1]**2 )\n",
    "        if(r<R):\n",
    "            break\n",
    "    \n",
    "    return np.asarray(X), finalT"
   ]
  },
  {
   "cell_type": "markdown",
   "metadata": {},
   "source": [
    "# Check if there is some POSITIVE correlation (heuristic)"
   ]
  },
  {
   "cell_type": "code",
   "execution_count": 3,
   "metadata": {},
   "outputs": [
    {
     "name": "stdout",
     "output_type": "stream",
     "text": [
      "1.0000000000000007\n",
      "1.0000000000000007\n"
     ]
    },
    {
     "data": {
      "image/png": "[encoded data removed]",
      "text/plain": [
       "<Figure size 288x288 with 1 Axes>"
      ]
     },
     "metadata": {},
     "output_type": "display_data"
    }
   ],
   "source": [
    "X, finalTime1 = NaiveRandomWalk(X0, N, T)\n",
    "Y, finalTime2 = ControlVariate(X0, N, T)\n",
    "\n",
    "#plots the walk\n",
    "plt.figure(figsize=[4,4])\n",
    "X = X.T\n",
    "plt.plot(X[0,:],X[1,:], '.-')\n",
    "Y = Y.T\n",
    "plt.plot(Y[0,:],Y[1,:], '.-')\n",
    "plt.xlim([-3,3])\n",
    "plt.ylim([-3,3])\n",
    "\n",
    "#plots the well\n",
    "theta = np.linspace(0,2*np.pi,100)\n",
    "plt.plot(R*np.cos(theta),R*np.sin(theta))\n",
    "print(finalTime1)\n",
    "print(finalTime2)"
   ]
  },
  {
   "cell_type": "code",
   "execution_count": 5,
   "metadata": {},
   "outputs": [
    {
     "name": "stdout",
     "output_type": "stream",
     "text": [
      "Current walk:  0\n",
      "Current walk:  1000\n",
      "Current walk:  2000\n",
      "Current walk:  3000\n",
      "Current walk:  4000\n",
      "\n",
      "\n",
      "\n",
      "Number of simulations: 5000. Time needed = 112.44769763946533\n",
      "The estimated probability at [-1.5, 2.0] is: 0.0876 (using MC), 0.0980219 (using the PDE)\n",
      "Confidence interval: [ 0.0876 +- 0.007850288294691934 ]\twith P = 0.95%\n",
      "\n",
      "\n",
      "\n",
      "Estimated std gain: 0.2827405673858796 - 0.2831505131210791 = -0.0004099457351994795\n"
     ]
    }
   ],
   "source": [
    "polluted = np.zeros(walks)\n",
    "\n",
    "Z = np.zeros(walks)\n",
    "Y = np.zeros(walks)\n",
    "\n",
    "start = time.time()\n",
    "\n",
    "for w in range(walks):\n",
    "    if (w%1000 == 0):\n",
    "        print('Current walk: ', w )\n",
    "\n",
    "    _, finalT_Z = NaiveRandomWalk(X0, N, T)\n",
    "    if finalT_Z < 1:\n",
    "            Z[w] = 1\n",
    "    \n",
    "    _, finalT_Y = ControlVariate(X0, N, T)\n",
    "    if finalT_Y < 1:\n",
    "            Y[w] = 1\n",
    "\n",
    "muY = np.mean(Y)\n",
    "sigmaY = np.std(Y, ddof = 1)\n",
    "sigma_xy = np.sum( (Y - muY) * (Z - np.mean(Z)) )/(N-1)\n",
    "alpha_opt = -sigma_xy/sigmaY\n",
    "Z_alpha = Z + alpha_opt*(Y - muY)\n",
    "    \n",
    "end = time.time()\n",
    "\n",
    "\n",
    "mean = np.mean(Z_alpha)\n",
    "std = np.std(Z_alpha, ddof = 1)\n",
    "\n",
    "confidence = 0.95\n",
    "LB, UB = CI(mean, std, walks, confidence)\n",
    "\n",
    "print(f'\\n\\n\\nNumber of simulations: {walks}. Time needed = {end - start}')\n",
    "print(f'The estimated probability at {X0} is: {mean} (using MC), {PDEProb} (using the PDE)')\n",
    "print(f'Confidence interval: [ {mean} +- {UB-mean} ]\\twith P = {confidence}%')\n",
    "\n",
    "print(f'\\n\\n\\nEstimated std gain: {np.std(Z, ddof = 1)} - {std} = {np.std(Z, ddof = 1) - std}')\n"
   ]
  },
  {
   "cell_type": "markdown",
   "metadata": {},
   "source": [
    "We don't obtain good results, this is probably due to the fact that we are estimating also muY. "
   ]
  }
 ],
 "metadata": {
  "kernelspec": {
   "display_name": "Python 3",
   "language": "python",
   "name": "python3"
  },
  "language_info": {
   "codemirror_mode": {
    "name": "ipython",
    "version": 3
   },
   "file_extension": ".py",
   "mimetype": "text/x-python",
   "name": "python",
   "nbconvert_exporter": "python",
   "pygments_lexer": "ipython3",
   "version": "3.6.5"
  }
 },
 "nbformat": 4,
 "nbformat_minor": 2
}
