{
 "cells": [
  {
   "cell_type": "markdown",
   "metadata": {},
   "source": [
    "# Task a"
   ]
  },
  {
   "cell_type": "code",
   "execution_count": 2,
   "metadata": {},
   "outputs": [],
   "source": [
    "from parameters import *\n",
    "from functions import *\n",
    "from PDE_solutions import *\n",
    "\n",
    "walks = 5000\n",
    "N = 200"
   ]
  },
  {
   "cell_type": "code",
   "execution_count": 3,
   "metadata": {},
   "outputs": [
    {
     "name": "stdout",
     "output_type": "stream",
     "text": [
      "0.11600000000000009\n"
     ]
    },
    {
     "data": {
      "image/png": "[encoded data removed]",
      "text/plain": [
       "<Figure size 288x288 with 1 Axes>"
      ]
     },
     "metadata": {},
     "output_type": "display_data"
    }
   ],
   "source": [
    "#np.random.seed(SEED) #scipy is based on the numpy seed\n",
    "X, finalTime = NaiveRandomWalk(X0, 1000, T)\n",
    "\n",
    "#plots the walk\n",
    "plt.figure(figsize=[4,4])\n",
    "X = X.T\n",
    "plt.plot(X[0,:],X[1,:], '.-')\n",
    "plt.xlim([-3,3])\n",
    "plt.ylim([-3,3])\n",
    "\n",
    "#plots the well\n",
    "theta = np.linspace(0,2*np.pi,100)\n",
    "plt.plot(R*np.cos(theta),R*np.sin(theta))\n",
    "print(finalTime)"
   ]
  },
  {
   "cell_type": "markdown",
   "metadata": {},
   "source": [
    "# MC simulation"
   ]
  },
  {
   "cell_type": "code",
   "execution_count": 4,
   "metadata": {
    "scrolled": true
   },
   "outputs": [
    {
     "name": "stdout",
     "output_type": "stream",
     "text": [
      "10\n",
      "\n",
      "Number of simulations: 20000. Time needed = 5.44 s\n",
      "Estimated variance: 0.4960655340282195\n",
      "The estimated probability at [-1.5, 1] is: 0.5627 (using MC)\n",
      "Confidence interval: [ 0.5627 +- 0.006875407315272031 ]\twith P = 0.95%\n",
      "20\n",
      "\n",
      "Number of simulations: 20000. Time needed = 10.15 s\n",
      "Estimated variance: 0.48707582791913123\n",
      "The estimated probability at [-1.5, 1] is: 0.613 (using MC)\n",
      "Confidence interval: [ 0.613 +- 0.006750811093795717 ]\twith P = 0.95%\n",
      "50\n",
      "\n",
      "Number of simulations: 20000. Time needed = 25.09 s\n",
      "Estimated variance: 0.4754453306250054\n",
      "The estimated probability at [-1.5, 1] is: 0.6548 (using MC)\n",
      "Confidence interval: [ 0.6548 +- 0.006589613831153973 ]\twith P = 0.95%\n",
      "100\n",
      "\n",
      "Number of simulations: 20000. Time needed = 51.98 s\n",
      "Estimated variance: 0.46755864932062563\n",
      "The estimated probability at [-1.5, 1] is: 0.6772 (using MC)\n",
      "Confidence interval: [ 0.6772 +- 0.006480305397864816 ]\twith P = 0.95%\n",
      "200\n",
      "\n",
      "Number of simulations: 20000. Time needed = 104.98 s\n",
      "Estimated variance: 0.46273037880624773\n",
      "The estimated probability at [-1.5, 1] is: 0.68945 (using MC)\n",
      "Confidence interval: [ 0.68945 +- 0.006413386162123724 ]\twith P = 0.95%\n",
      "500\n",
      "\n",
      "Number of simulations: 20000. Time needed = 250.42 s\n",
      "Estimated variance: 0.45885586509844983\n",
      "The estimated probability at [-1.5, 1] is: 0.69865 (using MC)\n",
      "Confidence interval: [ 0.69865 +- 0.006359685878466803 ]\twith P = 0.95%\n",
      "1000\n",
      "\n",
      "Number of simulations: 20000. Time needed = 501.50 s\n",
      "Estimated variance: 0.4544187109024461\n",
      "The estimated probability at [-1.5, 1] is: 0.7086 (using MC)\n",
      "Confidence interval: [ 0.7086 +- 0.006298187466814542 ]\twith P = 0.95%\n",
      "2000\n",
      "\n",
      "Number of simulations: 20000. Time needed = 995.54 s\n",
      "Estimated variance: 0.45326268581598206\n",
      "The estimated probability at [-1.5, 1] is: 0.7111 (using MC)\n",
      "Confidence interval: [ 0.7111 +- 0.006282165101238024 ]\twith P = 0.95%\n",
      "5000\n",
      "\n",
      "Number of simulations: 20000. Time needed = 2468.21 s\n",
      "Estimated variance: 0.45092412236229545\n",
      "The estimated probability at [-1.5, 1] is: 0.71605 (using MC)\n",
      "Confidence interval: [ 0.71605 +- 0.006249752899273209 ]\twith P = 0.95%\n",
      "10000\n",
      "\n",
      "Number of simulations: 20000. Time needed = 5053.80 s\n",
      "Estimated variance: 0.45185329319362993\n",
      "The estimated probability at [-1.5, 1] is: 0.7141 (using MC)\n",
      "Confidence interval: [ 0.7141 +- 0.006262631092763149 ]\twith P = 0.95%\n"
     ]
    },
    {
     "data": {
      "text/plain": [
       "([0.5627,\n",
       "  0.613,\n",
       "  0.6548,\n",
       "  0.6772,\n",
       "  0.68945,\n",
       "  0.69865,\n",
       "  0.7086,\n",
       "  0.7111,\n",
       "  0.71605,\n",
       "  0.7141],\n",
       " [[0.555824592684728, 0.569575407315272],\n",
       "  [0.6062491889062043, 0.6197508110937957],\n",
       "  [0.6482103861688461, 0.661389613831154],\n",
       "  [0.6707196946021352, 0.6836803053978648],\n",
       "  [0.6830366138378763, 0.6958633861621237],\n",
       "  [0.6922903141215332, 0.7050096858784668],\n",
       "  [0.7023018125331855, 0.7148981874668145],\n",
       "  [0.7048178348987619, 0.717382165101238],\n",
       "  [0.7098002471007268, 0.7222997528992732],\n",
       "  [0.7078373689072368, 0.7203626310927631]])"
      ]
     },
     "execution_count": 4,
     "metadata": {},
     "output_type": "execute_result"
    }
   ],
   "source": [
    "walks = 20000\n",
    "N = [10,20,50,100,200,500,1000,2000,5000,10000]\n",
    "X0 = [-1.5,1]\n",
    "prob=[]\n",
    "conf_int=[]\n",
    "for n in N:\n",
    "    print(n)\n",
    "    mean, std, LB, UB = BasicMonteCarlo(X0,walks=walks, N=n, verbose=1)\n",
    "    prob.append(mean)\n",
    "    conf_int.append([LB,UB])\n",
    "prob, conf_int"
   ]
  },
  {
   "cell_type": "code",
   "execution_count": 5,
   "metadata": {},
   "outputs": [
    {
     "name": "stdout",
     "output_type": "stream",
     "text": [
      "10\n",
      "\n",
      "Number of simulations: 20000. Time needed = 10.42 s\n",
      "Estimated variance: 0.2295408339483903\n",
      "The estimated probability at [-1.5, 2.0] is: 0.0558 (using MC)\n",
      "Confidence interval: [ 0.0558 +- 0.0031814077387457423 ]\twith P = 0.95%\n",
      "20\n",
      "\n",
      "Number of simulations: 20000. Time needed = 21.18 s\n",
      "Estimated variance: 0.24653202409006647\n",
      "The estimated probability at [-1.5, 2.0] is: 0.065 (using MC)\n",
      "Confidence interval: [ 0.065 +- 0.0034169035452103202 ]\twith P = 0.95%\n",
      "50\n",
      "\n",
      "Number of simulations: 20000. Time needed = 51.09 s\n",
      "Estimated variance: 0.26508472418370277\n",
      "The estimated probability at [-1.5, 2.0] is: 0.07605 (using MC)\n",
      "Confidence interval: [ 0.07605 +- 0.0036740416876368392 ]\twith P = 0.95%\n",
      "100\n",
      "\n",
      "Number of simulations: 20000. Time needed = 102.96 s\n",
      "Estimated variance: 0.27573790375930995\n",
      "The estimated probability at [-1.5, 2.0] is: 0.0829 (using MC)\n",
      "Confidence interval: [ 0.0829 +- 0.003821693446851529 ]\twith P = 0.95%\n",
      "200\n",
      "\n",
      "Number of simulations: 20000. Time needed = 228.55 s\n",
      "Estimated variance: 0.2835926325542713\n",
      "The estimated probability at [-1.5, 2.0] is: 0.0882 (using MC)\n",
      "Confidence interval: [ 0.0882 +- 0.003930559022288338 ]\twith P = 0.95%\n",
      "500\n",
      "\n",
      "Number of simulations: 20000. Time needed = 583.05 s\n",
      "Estimated variance: 0.29064979161366733\n",
      "The estimated probability at [-1.5, 2.0] is: 0.09315 (using MC)\n",
      "Confidence interval: [ 0.09315 +- 0.0040283703792435566 ]\twith P = 0.95%\n",
      "1000\n",
      "\n",
      "Number of simulations: 20000. Time needed = 1166.65 s\n",
      "Estimated variance: 0.28980803462783217\n",
      "The estimated probability at [-1.5, 2.0] is: 0.09255 (using MC)\n",
      "Confidence interval: [ 0.09255 +- 0.0040167037309055825 ]\twith P = 0.95%\n",
      "2000\n",
      "\n",
      "Number of simulations: 20000. Time needed = 2386.02 s\n",
      "Estimated variance: 0.29528310077869385\n",
      "The estimated probability at [-1.5, 2.0] is: 0.0965 (using MC)\n",
      "Confidence interval: [ 0.0965 +- 0.004092587474651202 ]\twith P = 0.95%\n",
      "5000\n",
      "\n",
      "Number of simulations: 20000. Time needed = 5904.84 s\n",
      "Estimated variance: 0.2955562174509\n",
      "The estimated probability at [-1.5, 2.0] is: 0.0967 (using MC)\n",
      "Confidence interval: [ 0.0967 +- 0.00409637283815098 ]\twith P = 0.95%\n",
      "10000\n",
      "\n",
      "Number of simulations: 20000. Time needed = 10475.87 s\n",
      "Estimated variance: 0.29610128976194944\n",
      "The estimated probability at [-1.5, 2.0] is: 0.0971 (using MC)\n",
      "Confidence interval: [ 0.0971 +- 0.0041039274733708775 ]\twith P = 0.95%\n"
     ]
    },
    {
     "data": {
      "text/plain": [
       "([0.0558,\n",
       "  0.065,\n",
       "  0.07605,\n",
       "  0.0829,\n",
       "  0.0882,\n",
       "  0.09315,\n",
       "  0.09255,\n",
       "  0.0965,\n",
       "  0.0967,\n",
       "  0.0971],\n",
       " [[0.05261859226125426, 0.058981407738745745],\n",
       "  [0.06158309645478968, 0.06841690354521032],\n",
       "  [0.07237595831236317, 0.07972404168763685],\n",
       "  [0.07907830655314847, 0.08672169344685153],\n",
       "  [0.08426944097771166, 0.09213055902228834],\n",
       "  [0.08912162962075644, 0.09717837037924355],\n",
       "  [0.08853329626909441, 0.09656670373090558],\n",
       "  [0.0924074125253488, 0.1005925874746512],\n",
       "  [0.09260362716184901, 0.10079637283815097],\n",
       "  [0.09299607252662913, 0.10120392747337088]])"
      ]
     },
     "execution_count": 5,
     "metadata": {},
     "output_type": "execute_result"
    }
   ],
   "source": [
    "walks = 20000\n",
    "N = [10,20,50,100,200,500,1000,2000,5000,10000]\n",
    "X0 = [-1.5, 2.]\n",
    "prob=[]\n",
    "conf_int=[]\n",
    "for n in N:\n",
    "    print(n)\n",
    "    mean, std, LB, UB = BasicMonteCarlo(X0,walks=walks, N=n, verbose=1)\n",
    "    prob.append(mean)\n",
    "    conf_int.append([LB,UB])\n",
    "prob, conf_int"
   ]
  },
  {
   "cell_type": "code",
   "execution_count": 6,
   "metadata": {},
   "outputs": [
    {
     "name": "stdout",
     "output_type": "stream",
     "text": [
      "10\n",
      "\n",
      "Number of simulations: 20000. Time needed = 3.85 s\n",
      "Estimated variance: 0.2568312638969519\n",
      "The estimated probability at [-2, 0] is: 0.929 (using MC)\n",
      "Confidence interval: [ 0.929 +- 0.00355964974274392 ]\twith P = 0.95%\n",
      "20\n",
      "\n",
      "Number of simulations: 20000. Time needed = 6.69 s\n",
      "Estimated variance: 0.2225363197787746\n",
      "The estimated probability at [-2, 0] is: 0.94775 (using MC)\n",
      "Confidence interval: [ 0.94775 +- 0.0030843260334907363 ]\twith P = 0.95%\n",
      "50\n",
      "\n",
      "Number of simulations: 20000. Time needed = 15.10 s\n",
      "Estimated variance: 0.20093629903482718\n",
      "The estimated probability at [-2, 0] is: 0.95785 (using MC)\n",
      "Confidence interval: [ 0.95785 +- 0.002784952401488905 ]\twith P = 0.95%\n",
      "100\n",
      "\n",
      "Number of simulations: 20000. Time needed = 28.78 s\n",
      "Estimated variance: 0.1910801483178042\n",
      "The estimated probability at [-2, 0] is: 0.96205 (using MC)\n",
      "Confidence interval: [ 0.96205 +- 0.002648347364267334 ]\twith P = 0.95%\n",
      "200\n",
      "\n",
      "Number of simulations: 20000. Time needed = 55.87 s\n",
      "Estimated variance: 0.18353112592611964\n",
      "The estimated probability at [-2, 0] is: 0.9651 (using MC)\n",
      "Confidence interval: [ 0.9651 +- 0.002543718841996334 ]\twith P = 0.95%\n",
      "500\n",
      "\n",
      "Number of simulations: 20000. Time needed = 136.02 s\n",
      "Estimated variance: 0.17653531724816937\n",
      "The estimated probability at [-2, 0] is: 0.9678 (using MC)\n",
      "Confidence interval: [ 0.9678 +- 0.002446757793785559 ]\twith P = 0.95%\n",
      "1000\n",
      "\n",
      "Number of simulations: 20000. Time needed = 271.18 s\n",
      "Estimated variance: 0.1750708713364377\n",
      "The estimated probability at [-2, 0] is: 0.96835 (using MC)\n",
      "Confidence interval: [ 0.96835 +- 0.002426460753488069 ]\twith P = 0.95%\n",
      "2000\n",
      "\n",
      "Number of simulations: 20000. Time needed = 541.46 s\n",
      "Estimated variance: 0.16767022146212568\n",
      "The estimated probability at [-2, 0] is: 0.97105 (using MC)\n",
      "Confidence interval: [ 0.97105 +- 0.00232388865606703 ]\twith P = 0.95%\n",
      "5000\n",
      "\n",
      "Number of simulations: 20000. Time needed = 1404.00 s\n",
      "Estimated variance: 0.17003942387071155\n",
      "The estimated probability at [-2, 0] is: 0.9702 (using MC)\n",
      "Confidence interval: [ 0.9702 +- 0.002356725510179958 ]\twith P = 0.95%\n",
      "10000\n",
      "\n",
      "Number of simulations: 20000. Time needed = 2736.46 s\n",
      "Estimated variance: 0.16809105487840958\n",
      "The estimated probability at [-2, 0] is: 0.9709 (using MC)\n",
      "Confidence interval: [ 0.9709 +- 0.002329721355479375 ]\twith P = 0.95%\n"
     ]
    },
    {
     "data": {
      "text/plain": [
       "([0.929,\n",
       "  0.94775,\n",
       "  0.95785,\n",
       "  0.96205,\n",
       "  0.9651,\n",
       "  0.9678,\n",
       "  0.96835,\n",
       "  0.97105,\n",
       "  0.9702,\n",
       "  0.9709],\n",
       " [[0.9254403502572561, 0.932559649742744],\n",
       "  [0.9446656739665092, 0.9508343260334907],\n",
       "  [0.9550650475985111, 0.9606349524014889],\n",
       "  [0.9594016526357326, 0.9646983473642673],\n",
       "  [0.9625562811580036, 0.9676437188419963],\n",
       "  [0.9653532422062144, 0.9702467577937856],\n",
       "  [0.965923539246512, 0.9707764607534881],\n",
       "  [0.9687261113439329, 0.973373888656067],\n",
       "  [0.96784327448982, 0.9725567255101799],\n",
       "  [0.9685702786445206, 0.9732297213554794]])"
      ]
     },
     "execution_count": 6,
     "metadata": {},
     "output_type": "execute_result"
    }
   ],
   "source": [
    "walks = 20000\n",
    "N = [10,20,50,100,200,500,1000,2000,5000,10000]\n",
    "X0 = [-2, 0]\n",
    "prob=[]\n",
    "conf_int=[]\n",
    "for n in N:\n",
    "    print(n)\n",
    "    mean, std, LB, UB = BasicMonteCarlo(X0,walks=walks, N=n, verbose=1)\n",
    "    prob.append(mean)\n",
    "    conf_int.append([LB,UB])\n",
    "prob, conf_int"
   ]
  },
  {
   "cell_type": "code",
   "execution_count": null,
   "metadata": {},
   "outputs": [],
   "source": []
  }
 ],
 "metadata": {
  "kernelspec": {
   "display_name": "Python 3",
   "language": "python",
   "name": "python3"
  },
  "language_info": {
   "codemirror_mode": {
    "name": "ipython",
    "version": 3
   },
   "file_extension": ".py",
   "mimetype": "text/x-python",
   "name": "python",
   "nbconvert_exporter": "python",
   "pygments_lexer": "ipython3",
   "version": "3.6.5"
  }
 },
 "nbformat": 4,
 "nbformat_minor": 2
}
