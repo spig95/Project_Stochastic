{
 "cells": [
  {
   "cell_type": "markdown",
   "metadata": {},
   "source": [
    "# Task a"
   ]
  },
  {
   "cell_type": "code",
   "execution_count": 34,
   "metadata": {},
   "outputs": [],
   "source": [
    "from parameters import *\n",
    "from functions import *\n",
    "from PDE_solutions import *\n",
    "\n",
    "walks = 5000\n",
    "N = 200"
   ]
  },
  {
   "cell_type": "code",
   "execution_count": 45,
   "metadata": {},
   "outputs": [
    {
     "name": "stdout",
     "output_type": "stream",
     "text": [
      "0.2969600000001562\n"
     ]
    },
    {
     "data": {
      "image/png": "[encoded data removed]",
      "text/plain": [
       "<Figure size 288x288 with 1 Axes>"
      ]
     },
     "metadata": {},
     "output_type": "display_data"
    }
   ],
   "source": [
    "#np.random.seed(SEED) #scipy is based on the numpy seed\n",
    "X, finalTime = NaiveRandomWalk(X0, 100000, T)\n",
    "\n",
    "#plots the walk\n",
    "plt.figure(figsize=[4,4])\n",
    "X = X.T\n",
    "plt.plot(X[0,:],X[1,:], '.-')\n",
    "plt.xlim([-3,3])\n",
    "plt.ylim([-3,3])\n",
    "\n",
    "#plots the well\n",
    "theta = np.linspace(0,2*np.pi,100)\n",
    "plt.plot(R*np.cos(theta),R*np.sin(theta))\n",
    "print(finalTime)"
   ]
  },
  {
   "cell_type": "markdown",
   "metadata": {},
   "source": [
    "# MC simulation"
   ]
  },
  {
   "cell_type": "code",
   "execution_count": 32,
   "metadata": {
    "scrolled": true
   },
   "outputs": [
    {
     "name": "stdout",
     "output_type": "stream",
     "text": [
      "10\n",
      "\n",
      "Number of simulations: 10000. Time needed = 2.78 s\n",
      "Estimated variance: 0.4966611090328319\n",
      "The estimated probability at [-1.5, 1] is: 0.5579 (using MC)\n",
      "Confidence interval: [ 0.5579 +- 0.009735557335177392 ]\twith P = 0.95%\n",
      "20\n",
      "\n",
      "Number of simulations: 10000. Time needed = 5.83 s\n",
      "Estimated variance: 0.48711119647547946\n",
      "The estimated probability at [-1.5, 1] is: 0.6129 (using MC)\n",
      "Confidence interval: [ 0.6129 +- 0.00954835982855351 ]\twith P = 0.95%\n",
      "50\n",
      "\n",
      "Number of simulations: 10000. Time needed = 13.39 s\n",
      "Estimated variance: 0.4729836480821883\n",
      "The estimated probability at [-1.5, 1] is: 0.6622 (using MC)\n",
      "Confidence interval: [ 0.6622 +- 0.009271431446429501 ]\twith P = 0.95%\n",
      "100\n",
      "\n",
      "Number of simulations: 10000. Time needed = 25.00 s\n",
      "Estimated variance: 0.46642224965314116\n",
      "The estimated probability at [-1.5, 1] is: 0.6802 (using MC)\n",
      "Confidence interval: [ 0.6802 +- 0.009142814831512025 ]\twith P = 0.95%\n",
      "200\n",
      "\n",
      "Number of simulations: 10000. Time needed = 576.17 s\n",
      "Estimated variance: 0.4618557903470603\n",
      "The estimated probability at [-1.5, 1] is: 0.6916 (using MC)\n",
      "Confidence interval: [ 0.6916 +- 0.0090533030384915 ]\twith P = 0.95%\n",
      "500\n",
      "\n",
      "Number of simulations: 10000. Time needed = 123.70 s\n",
      "Estimated variance: 0.45611050599538694\n",
      "The estimated probability at [-1.5, 1] is: 0.7049 (using MC)\n",
      "Confidence interval: [ 0.7049 +- 0.008940683902031288 ]\twith P = 0.95%\n",
      "1000\n",
      "\n",
      "Number of simulations: 10000. Time needed = 3089.35 s\n",
      "Estimated variance: 0.4545218355699767\n",
      "The estimated probability at [-1.5, 1] is: 0.7084 (using MC)\n",
      "Confidence interval: [ 0.7084 +- 0.00890954276427769 ]\twith P = 0.95%\n",
      "2000\n",
      "\n",
      "Number of simulations: 10000. Time needed = 552.79 s\n",
      "Estimated variance: 0.45784272626765576\n",
      "The estimated probability at [-1.5, 1] is: 0.701 (using MC)\n",
      "Confidence interval: [ 0.701 +- 0.008974638905697052 ]\twith P = 0.95%\n",
      "5000\n",
      "\n",
      "Number of simulations: 10000. Time needed = 1190.03 s\n",
      "Estimated variance: 0.4537847419858957\n",
      "The estimated probability at [-1.5, 1] is: 0.71 (using MC)\n",
      "Confidence interval: [ 0.71 +- 0.008895094246528457 ]\twith P = 0.95%\n",
      "10000\n",
      "\n",
      "Number of simulations: 10000. Time needed = 3033.56 s\n",
      "Estimated variance: 0.44552311846290144\n",
      "The estimated probability at [-1.5, 1] is: 0.727 (using MC)\n",
      "Confidence interval: [ 0.727 +- 0.008733149797835016 ]\twith P = 0.95%\n"
     ]
    },
    {
     "data": {
      "text/plain": [
       "([0.5579, 0.6129, 0.6622, 0.6802, 0.6916, 0.7049, 0.7084, 0.701, 0.71, 0.727],\n",
       " [[0.5481644426648226, 0.5676355573351773],\n",
       "  [0.6033516401714465, 0.6224483598285535],\n",
       "  [0.6529285685535705, 0.6714714314464295],\n",
       "  [0.671057185168488, 0.689342814831512],\n",
       "  [0.6825466969615085, 0.7006533030384915],\n",
       "  [0.6959593160979687, 0.7138406839020313],\n",
       "  [0.6994904572357223, 0.7173095427642777],\n",
       "  [0.6920253610943029, 0.709974638905697],\n",
       "  [0.7011049057534715, 0.7188950942465284],\n",
       "  [0.718266850202165, 0.735733149797835]])"
      ]
     },
     "execution_count": 32,
     "metadata": {},
     "output_type": "execute_result"
    }
   ],
   "source": [
    "walks = 10000\n",
    "N = [10,20,50,100,200,500,1000,2000,5000,10000]\n",
    "X0 = [-1.5,1]\n",
    "prob=[]\n",
    "conf_int=[]\n",
    "for n in N:\n",
    "    print(n)\n",
    "    mean, std, LB, UB = BasicMonteCarlo(X0,walks=walks, N=n, verbose=1)\n",
    "    prob.append(mean)\n",
    "    conf_int.append([LB,UB])\n",
    "prob, conf_int"
   ]
  },
  {
   "cell_type": "code",
   "execution_count": null,
   "metadata": {},
   "outputs": [
    {
     "name": "stdout",
     "output_type": "stream",
     "text": [
      "10\n",
      "\n",
      "Number of simulations: 10000. Time needed = 8.63 s\n",
      "Estimated variance: 0.22622623152672428\n",
      "The estimated probability at [-1.5, 2.0] is: 0.0541 (using MC)\n",
      "Confidence interval: [ 0.0541 +- 0.004434489449029827 ]\twith P = 0.95%\n",
      "20\n",
      "\n",
      "Number of simulations: 10000. Time needed = 17.60 s\n",
      "Estimated variance: 0.25210139926535735\n",
      "The estimated probability at [-1.5, 2.0] is: 0.0682 (using MC)\n",
      "Confidence interval: [ 0.0682 +- 0.004941694814006664 ]\twith P = 0.95%\n",
      "50\n",
      "\n",
      "Number of simulations: 10000. Time needed = 46.26 s\n",
      "Estimated variance: 0.2638879945874172\n",
      "The estimated probability at [-1.5, 2.0] is: 0.0753 (using MC)\n",
      "Confidence interval: [ 0.0753 +- 0.005172735804447617 ]\twith P = 0.95%\n",
      "100\n",
      "\n",
      "Number of simulations: 10000. Time needed = 90.05 s\n",
      "Estimated variance: 0.27177066789775706\n",
      "The estimated probability at [-1.5, 2.0] is: 0.0803 (using MC)\n",
      "Confidence interval: [ 0.0803 +- 0.005327252066284038 ]\twith P = 0.95%\n",
      "200\n",
      "\n",
      "Number of simulations: 10000. Time needed = 176.86 s\n",
      "Estimated variance: 0.2880496611015643\n",
      "The estimated probability at [-1.5, 2.0] is: 0.0913 (using MC)\n",
      "Confidence interval: [ 0.0913 +- 0.005646353096769904 ]\twith P = 0.95%\n",
      "500\n",
      "\n",
      "Number of simulations: 10000. Time needed = 424.38 s\n",
      "Estimated variance: 0.2901664688725522\n",
      "The estimated probability at [-1.5, 2.0] is: 0.0928 (using MC)\n",
      "Confidence interval: [ 0.0928 +- 0.005687846789445242 ]\twith P = 0.95%\n",
      "1000\n",
      "\n",
      "Number of simulations: 10000. Time needed = 602.30 s\n",
      "Estimated variance: 0.2959725662557217\n",
      "The estimated probability at [-1.5, 2.0] is: 0.097 (using MC)\n",
      "Confidence interval: [ 0.097 +- 0.0058016579837172205 ]\twith P = 0.95%\n",
      "2000\n",
      "\n",
      "Number of simulations: 10000. Time needed = 1042.54 s\n",
      "Estimated variance: 0.29638065751566\n",
      "The estimated probability at [-1.5, 2.0] is: 0.0973 (using MC)\n",
      "Confidence interval: [ 0.0973 +- 0.00580965739375125 ]\twith P = 0.95%\n",
      "5000\n"
     ]
    }
   ],
   "source": [
    "walks = 10000\n",
    "N = [10,20,50,100,200,500,1000,2000,5000,10000]\n",
    "X0 = [-1.5, 2.]\n",
    "prob=[]\n",
    "conf_int=[]\n",
    "for n in N:\n",
    "    print(n)\n",
    "    mean, std, LB, UB = BasicMonteCarlo(X0,walks=walks, N=n, verbose=1)\n",
    "    prob.append(mean)\n",
    "    conf_int.append([LB,UB])\n",
    "prob, conf_int"
   ]
  },
  {
   "cell_type": "code",
   "execution_count": null,
   "metadata": {},
   "outputs": [],
   "source": [
    "walks = 10000\n",
    "N = [10,20,50,100,200,500,1000,2000,5000,10000]\n",
    "X0 = [-2, 0]\n",
    "prob=[]\n",
    "conf_int=[]\n",
    "for n in N:\n",
    "    print(n)\n",
    "    mean, std, LB, UB = BasicMonteCarlo(X0,walks=walks, N=n, verbose=1)\n",
    "    prob.append(mean)\n",
    "    conf_int.append([LB,UB])\n",
    "prob, conf_int"
   ]
  },
  {
   "cell_type": "code",
   "execution_count": null,
   "metadata": {},
   "outputs": [],
   "source": []
  }
 ],
 "metadata": {
  "kernelspec": {
   "display_name": "Python 3",
   "language": "python",
   "name": "python3"
  }
 },
 "nbformat": 4,
 "nbformat_minor": 2
}
