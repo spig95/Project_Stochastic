{
 "cells": [
  {
   "cell_type": "markdown",
   "metadata": {},
   "source": [
    "# Task a"
   ]
  },
  {
   "cell_type": "code",
   "execution_count": 13,
   "metadata": {},
   "outputs": [],
   "source": [
    "from parameters import *\n",
    "from functions import *\n",
    "walks = 1000\n",
    "N = 200\n",
    "X0 = [-1.5, 1.]"
   ]
  },
  {
   "cell_type": "code",
   "execution_count": 3,
   "metadata": {},
   "outputs": [
    {
     "name": "stdout",
     "output_type": "stream",
     "text": [
      "0.31000000000000016\n"
     ]
    },
    {
     "data": {
      "image/png": "[encoded data removed]",
      "text/plain": [
       "<Figure size 288x288 with 1 Axes>"
      ]
     },
     "metadata": {},
     "output_type": "display_data"
    }
   ],
   "source": [
    "np.random.seed(SEED) #scipy is based on the numpy seed\n",
    "X, finalTime = NaiveRandomWalk(X0, N, T)\n",
    "\n",
    "#plots the walk\n",
    "plt.figure(figsize=[4,4])\n",
    "X = X.T\n",
    "plt.plot(X[0,:],X[1,:], '.-')\n",
    "plt.xlim([-3,3])\n",
    "plt.ylim([-3,3])\n",
    "\n",
    "#plots the well\n",
    "theta = np.linspace(0,2*np.pi,100)\n",
    "plt.plot(R*np.cos(theta),R*np.sin(theta))\n",
    "print(finalTime)"
   ]
  },
  {
   "cell_type": "code",
   "execution_count": 4,
   "metadata": {},
   "outputs": [
    {
     "name": "stdout",
     "output_type": "stream",
     "text": [
      "Current walk:  0\n",
      "Current walk:  100\n",
      "Current walk:  200\n",
      "Current walk:  300\n",
      "Current walk:  400\n",
      "Current walk:  500\n",
      "Current walk:  600\n",
      "Current walk:  700\n",
      "Current walk:  800\n",
      "Current walk:  900\n",
      "0.71\n"
     ]
    }
   ],
   "source": [
    "polluted = np.zeros(walks)\n",
    "np.random.seed(SEED) #scipy is based on the numpy seed\n",
    "for w in range(walks):\n",
    "    if (w%100 == 0):\n",
    "        print('Current walk: ', w )\n",
    "    #diff equation\n",
    "    _, finalT = NaiveRandomWalk(X0, N, T)\n",
    "    if finalT < 1:\n",
    "            polluted[w] = 1\n",
    "            \n",
    "print(polluted.mean())"
   ]
  },
  {
   "cell_type": "code",
   "execution_count": 5,
   "metadata": {},
   "outputs": [
    {
     "name": "stdout",
     "output_type": "stream",
     "text": [
      "Current walk:  0\n",
      "Current walk:  100\n",
      "MAXITERS limit reached\n",
      "Current walk:  200\n",
      "Current walk:  300\n",
      "Current walk:  400\n",
      "Current walk:  500\n",
      "Current walk:  600\n",
      "Current walk:  700\n",
      "Current walk:  800\n",
      "Current walk:  900\n",
      "0.722\n"
     ]
    }
   ],
   "source": []
  },
  {
   "cell_type": "code",
   "execution_count": 11,
   "metadata": {},
   "outputs": [
    {
     "name": "stdout",
     "output_type": "stream",
     "text": [
      "MAXITERS limit reached\n"
     ]
    }
   ],
   "source": [
    "\n"
   ]
  },
  {
   "cell_type": "code",
   "execution_count": 12,
   "metadata": {},
   "outputs": [
    {
     "data": {
      "text/plain": [
       "[<matplotlib.lines.Line2D at 0x23887911da0>]"
      ]
     },
     "execution_count": 12,
     "metadata": {},
     "output_type": "execute_result"
    },
    {
     "data": {
      "image/png": "[encoded data removed]",
      "text/plain": [
       "<Figure size 288x288 with 1 Axes>"
      ]
     },
     "metadata": {},
     "output_type": "display_data"
    }
   ],
   "source": []
  }
 ],
 "metadata": {
  "kernelspec": {
   "display_name": "Python 3",
   "language": "python",
   "name": "python3"
  },
  "language_info": {
   "codemirror_mode": {
    "name": "ipython",
    "version": 3
   },
   "file_extension": ".py",
   "mimetype": "text/x-python",
   "name": "python",
   "nbconvert_exporter": "python",
   "pygments_lexer": "ipython3",
   "version": "3.6.5"
  }
 },
 "nbformat": 4,
 "nbformat_minor": 2
}
