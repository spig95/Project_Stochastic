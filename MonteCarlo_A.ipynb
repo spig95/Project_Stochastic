{
 "cells": [
  {
   "cell_type": "code",
<<<<<<< HEAD
   "execution_count": 42,
=======
   "execution_count": 1,
>>>>>>> b805a9a934ba9064442c9f52b62f933e3def60e6
   "metadata": {},
   "outputs": [],
   "source": [
    "from parameters import *\n",
    "from functions import *"
   ]
  },
  {
   "cell_type": "code",
<<<<<<< HEAD
   "execution_count": 43,
   "metadata": {},
   "outputs": [],
   "source": [
    "def u(X) :\n",
    "    pre = q / (2*np.pi * (X[0]**2 + X[1]**2)) \n",
    "    return np.array([1+pre*X[0], pre*X[1]])\n",
    "\n",
    "def NaiveRandomWalk(X0, N, T):\n",
    "    ''' X0: initial position\n",
    "        N: number of steps\n",
    "        T: Final time'''\n",
    "    X = []\n",
    "    dt = T/N\n",
    "    sigmaSqrtDt = sigma * np.sqrt(dt)\n",
    "    X.append(X0)\n",
    "    finalT = dt\n",
    "    for i in range(N-1):\n",
    "        X0 = X0 + u(X0) * dt + sigmaSqrtDt* norm.rvs(size=2)\n",
    "        X.append(X0)\n",
    "        finalT = finalT + dt\n",
    "        r = np.sqrt( X0[0]**2 + X0[1]**2 )\n",
    "        if(r<1):\n",
    "            break\n",
    "    \n",
    "    return np.asarray(X), finalT\n",
    "\n",
    "def deltaTBound(X, sigma, R):\n",
    "    r = np.sqrt(X[0]**2 + X[1]**2)\n",
    "    U = u(X)\n",
    "    delta = sigma**4 + (U[0]**2 + U[1]**2) * (R-r)**2\n",
    "    bound = - sigma**2 + np.sqrt(delta)\n",
    "    return bound/(U[0]**2 + U[1]**2)\n",
    "\n",
    "def RandomWalkAdaptiveTimeStep(X0, T):\n",
    "    ''' X0: initial position\n",
    "        T: Final time'''\n",
    "    X = []\n",
    "    coeff = 0.7  \n",
    "    X.append(X0)\n",
    "    finalT = 0\n",
    "    for i in range(N-1):\n",
    "        dt = coeff * deltaTBound(X0, sigma, R)\n",
    "        X0 = X0 + u(X0) * dt + sigma * np.sqrt(dt)* norm.rvs(size=2)\n",
    "        X.append(X0)\n",
    "        finalT = finalT + dt\n",
    "        r = np.sqrt( X0[0]**2 + X0[1]**2 )\n",
    "        if(r<1 or finalT >= 1):\n",
    "            break\n",
    "    \n",
    "    return np.asarray(X), finalT"
   ]
  },
  {
   "cell_type": "code",
   "execution_count": 44,
   "metadata": {},
   "outputs": [],
   "source": [
    "q = 1\n",
    "sigma = 2 \n",
    "walks = 500\n",
    "R = 1\n",
    "T = 1\n",
=======
   "execution_count": 2,
   "metadata": {},
   "outputs": [],
   "source": [
    "walks = 1000\n",
>>>>>>> b805a9a934ba9064442c9f52b62f933e3def60e6
    "N = 200\n",
    "dt = T/N\n",
    "sigmaSqrtDt = sigma * np.sqrt(T/N)"
   ]
  },
  {
   "cell_type": "code",
<<<<<<< HEAD
   "execution_count": 72,
=======
   "execution_count": 3,
>>>>>>> b805a9a934ba9064442c9f52b62f933e3def60e6
   "metadata": {},
   "outputs": [
    {
     "name": "stdout",
     "output_type": "stream",
     "text": [
<<<<<<< HEAD
      "1.2475662941610082\n"
=======
      "1.0000000000000007\n"
>>>>>>> b805a9a934ba9064442c9f52b62f933e3def60e6
     ]
    },
    {
     "data": {
<<<<<<< HEAD
      "image/png": "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\n",
=======
      "image/png": "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\n",
>>>>>>> b805a9a934ba9064442c9f52b62f933e3def60e6
      "text/plain": [
       "<Figure size 288x288 with 1 Axes>"
      ]
     },
     "metadata": {
      "needs_background": "light"
     },
     "output_type": "display_data"
    }
   ],
   "source": [
    "X0 = [-1.5, 2.]\n",
    "X, finalTime = NaiveRandomWalk(X0, N, T)\n",
    "\n",
    "#plots the walk\n",
    "plt.figure(figsize=[4,4])\n",
    "X = X.T\n",
    "plt.plot(X[0,:],X[1,:], '.-')\n",
    "plt.xlim([-3,3])\n",
    "plt.ylim([-3,3])\n",
    "\n",
    "#plots the well\n",
    "theta = np.linspace(0,2*np.pi,100)\n",
    "plt.plot(R*np.cos(theta),R*np.sin(theta))\n",
    "print(finalTime)"
   ]
  },
  {
   "cell_type": "code",
<<<<<<< HEAD
   "execution_count": 56,
=======
   "execution_count": 4,
>>>>>>> b805a9a934ba9064442c9f52b62f933e3def60e6
   "metadata": {},
   "outputs": [
    {
     "name": "stdout",
     "output_type": "stream",
     "text": [
<<<<<<< HEAD
      "0.474\n"
=======
      "0.092\n"
>>>>>>> b805a9a934ba9064442c9f52b62f933e3def60e6
     ]
    }
   ],
   "source": [
    "polluted = np.zeros(walks)\n",
    "for w in range(walks):\n",
    "    #diff equation\n",
<<<<<<< HEAD
    "    X_0 = [1.1,1.2]\n",
    "    #_, finalT = NaiveRandomWalk(X0, N, T)\n",
    "    _, finalT = RandomWalkAdaptiveTimeStep(X0, T)\n",
=======
    "    _, finalT = NaiveRandomWalk(X0, N, T)\n",
>>>>>>> b805a9a934ba9064442c9f52b62f933e3def60e6
    "    if finalT < 1:\n",
    "            polluted[w] = 1\n",
    "            \n",
    "print(polluted.mean())"
   ]
  },
  {
   "cell_type": "code",
<<<<<<< HEAD
   "execution_count": 40,
   "metadata": {},
   "outputs": [],
   "source": [
    "chunks = 10\n",
    "poll = polluted.reshape(chunks,-1)\n",
    "means = np.zeros(chunks)\n",
    "for i in range(chunks):\n",
    "    means[i] = poll[i].mean()"
   ]
  },
  {
   "cell_type": "code",
   "execution_count": 41,
   "metadata": {},
   "outputs": [
    {
     "data": {
      "text/plain": [
       "0.07332121111929345"
      ]
     },
     "execution_count": 41,
     "metadata": {},
     "output_type": "execute_result"
    }
   ],
   "source": [
    "means.std()"
   ]
  },
  {
   "cell_type": "code",
=======
>>>>>>> b805a9a934ba9064442c9f52b62f933e3def60e6
   "execution_count": null,
   "metadata": {},
   "outputs": [],
   "source": []
  }
 ],
 "metadata": {
  "kernelspec": {
   "display_name": "Python 3",
   "language": "python",
   "name": "python3"
  },
  "language_info": {
   "codemirror_mode": {
    "name": "ipython",
    "version": 3
   },
   "file_extension": ".py",
   "mimetype": "text/x-python",
   "name": "python",
   "nbconvert_exporter": "python",
   "pygments_lexer": "ipython3",
   "version": "3.6.7"
  }
 },
 "nbformat": 4,
 "nbformat_minor": 2
}
